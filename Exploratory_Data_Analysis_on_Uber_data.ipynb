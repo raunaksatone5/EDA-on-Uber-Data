{
  "cells": [
    {
      "cell_type": "markdown",
      "metadata": {
        "id": "view-in-github",
        "colab_type": "text"
      },
      "source": [
        "<a href=\"https://colab.research.google.com/github/raunaksatone5/EDA-on-Uber-Data/blob/main/Exploratory_Data_Analysis_on_Uber_data.ipynb\" target=\"_parent\"><img src=\"https://colab.research.google.com/assets/colab-badge.svg\" alt=\"Open In Colab\"/></a>"
      ]
    },
    {
      "cell_type": "markdown",
      "source": [
        "# <b> Uber Case Study </b>"
      ],
      "metadata": {
        "id": "NdycjrBkuaxG"
      }
    },
    {
      "cell_type": "markdown",
      "metadata": {
        "id": "dvt3gPFODuc4"
      },
      "source": [
        "## <u>**First of all, let's understand the business domain**</u>\n",
        "#### Ridesharing is when people use a service to get a ride on short notice. It's a market with a lot of changes in demand based on factors like time, place, weather, and events. The key to success in ridesharing is to be able to understand how demand changes and provide rides when people need them.\n",
        "\n",
        "## <u>**Objective:**</u>\n",
        "#### As a newly hired Data Analyst in you have been given the task of extracting actionable insights from data that will help in the growth of the the business. \n",
        "\n"
      ]
    },
    {
      "cell_type": "markdown",
      "source": [
        "## <u>**Questions the Uber management are asking**</u>\n",
        "### 1. What are the different variables that influence the number of pickups?\n",
        "### 2. Which factor affects the number of pickups the most? What could be the possible reasons for that?\n",
        "### 3. What are your recommendations to Uber management to capitalize on fluctuating demand?"
      ],
      "metadata": {
        "id": "15VtStgJxThr"
      }
    },
    {
      "cell_type": "markdown",
      "source": [
        "## <u> **Well what do we have in the Data?**</u>\n",
        "### The data contains the details for the Uber rides across various boroughs (subdivisions) of New York City at an hourly level and attributes associated with weather conditions at that time.\n",
        "\n",
        "* pickup_dt: Date and time of the pick-up\n",
        "* borough: NYC's borough\n",
        "* pickups: Number of pickups for the period (hourly)\n",
        "* spd: Wind speed in miles/hour\n",
        "* vsb: Visibility in miles to the nearest tenth\n",
        "* temp: Temperature in Fahrenheit\n",
        "* dewp: Dew point in Fahrenheit\n",
        "* slp: Sea level pressure\n",
        "* pcp01: 1-hour liquid precipitation\n",
        "* pcp06: 6-hour liquid precipitation\n",
        "* pcp24: 24-hour liquid precipitation\n",
        "* sd: Snow depth in inches\n",
        "* hday: Being a holiday (Y) or not (N)"
      ],
      "metadata": {
        "id": "2FvOrHRaxXhb"
      }
    },
    {
      "cell_type": "markdown",
      "metadata": {
        "id": "cuFlvhPwCmL3"
      },
      "source": [
        "### **Importing the necessary libraries**"
      ]
    },
    {
      "cell_type": "code",
      "execution_count": null,
      "metadata": {
        "id": "xwOVK2hbCmL8"
      },
      "outputs": [],
      "source": [
        "# Libraries to help with reading and manipulating data\n",
        "import numpy as np\n",
        "import pandas as pd\n",
        "\n",
        "# Libraries to help with data visualization\n",
        "import matplotlib.pyplot as plt\n",
        "import seaborn as sns\n",
        "#%matplotlib inline"
      ]
    },
    {
      "cell_type": "markdown",
      "metadata": {
        "id": "ikTvAOfVCmL_"
      },
      "source": [
        "### **Loading the dataset**"
      ]
    },
    {
      "cell_type": "code",
      "source": [
        "df = pd.read_csv('Uber_Data.csv')\n",
        "df.head()"
      ],
      "metadata": {
        "id": "wSDkmSOn7OFb",
        "colab": {
          "base_uri": "https://localhost:8080/",
          "height": 206
        },
        "outputId": "e10f006e-0778-463a-8ad8-09ce6587aad9"
      },
      "execution_count": null,
      "outputs": [
        {
          "output_type": "execute_result",
          "data": {
            "text/plain": [
              "          pickup_dt    borough  pickups  spd   vsb  temp  dewp     slp  pcp01  \\\n",
              "0  01-01-2015 01:00      Bronx      152  5.0  10.0  30.0   7.0  1023.5    0.0   \n",
              "1  01-01-2015 01:00   Brooklyn     1519  5.0  10.0   NaN   7.0  1023.5    0.0   \n",
              "2  01-01-2015 01:00        EWR        0  5.0  10.0  30.0   7.0  1023.5    0.0   \n",
              "3  01-01-2015 01:00  Manhattan     5258  5.0  10.0  30.0   7.0  1023.5    0.0   \n",
              "4  01-01-2015 01:00     Queens      405  5.0  10.0  30.0   7.0  1023.5    0.0   \n",
              "\n",
              "   pcp06  pcp24   sd hday  \n",
              "0    0.0    0.0  0.0    Y  \n",
              "1    0.0    0.0  0.0    Y  \n",
              "2    0.0    0.0  0.0    Y  \n",
              "3    0.0    0.0  0.0    Y  \n",
              "4    0.0    0.0  0.0    Y  "
            ],
            "text/html": [
              "\n",
              "  <div id=\"df-98183f87-cfbb-42ff-a366-00ff4a407469\">\n",
              "    <div class=\"colab-df-container\">\n",
              "      <div>\n",
              "<style scoped>\n",
              "    .dataframe tbody tr th:only-of-type {\n",
              "        vertical-align: middle;\n",
              "    }\n",
              "\n",
              "    .dataframe tbody tr th {\n",
              "        vertical-align: top;\n",
              "    }\n",
              "\n",
              "    .dataframe thead th {\n",
              "        text-align: right;\n",
              "    }\n",
              "</style>\n",
              "<table border=\"1\" class=\"dataframe\">\n",
              "  <thead>\n",
              "    <tr style=\"text-align: right;\">\n",
              "      <th></th>\n",
              "      <th>pickup_dt</th>\n",
              "      <th>borough</th>\n",
              "      <th>pickups</th>\n",
              "      <th>spd</th>\n",
              "      <th>vsb</th>\n",
              "      <th>temp</th>\n",
              "      <th>dewp</th>\n",
              "      <th>slp</th>\n",
              "      <th>pcp01</th>\n",
              "      <th>pcp06</th>\n",
              "      <th>pcp24</th>\n",
              "      <th>sd</th>\n",
              "      <th>hday</th>\n",
              "    </tr>\n",
              "  </thead>\n",
              "  <tbody>\n",
              "    <tr>\n",
              "      <th>0</th>\n",
              "      <td>01-01-2015 01:00</td>\n",
              "      <td>Bronx</td>\n",
              "      <td>152</td>\n",
              "      <td>5.0</td>\n",
              "      <td>10.0</td>\n",
              "      <td>30.0</td>\n",
              "      <td>7.0</td>\n",
              "      <td>1023.5</td>\n",
              "      <td>0.0</td>\n",
              "      <td>0.0</td>\n",
              "      <td>0.0</td>\n",
              "      <td>0.0</td>\n",
              "      <td>Y</td>\n",
              "    </tr>\n",
              "    <tr>\n",
              "      <th>1</th>\n",
              "      <td>01-01-2015 01:00</td>\n",
              "      <td>Brooklyn</td>\n",
              "      <td>1519</td>\n",
              "      <td>5.0</td>\n",
              "      <td>10.0</td>\n",
              "      <td>NaN</td>\n",
              "      <td>7.0</td>\n",
              "      <td>1023.5</td>\n",
              "      <td>0.0</td>\n",
              "      <td>0.0</td>\n",
              "      <td>0.0</td>\n",
              "      <td>0.0</td>\n",
              "      <td>Y</td>\n",
              "    </tr>\n",
              "    <tr>\n",
              "      <th>2</th>\n",
              "      <td>01-01-2015 01:00</td>\n",
              "      <td>EWR</td>\n",
              "      <td>0</td>\n",
              "      <td>5.0</td>\n",
              "      <td>10.0</td>\n",
              "      <td>30.0</td>\n",
              "      <td>7.0</td>\n",
              "      <td>1023.5</td>\n",
              "      <td>0.0</td>\n",
              "      <td>0.0</td>\n",
              "      <td>0.0</td>\n",
              "      <td>0.0</td>\n",
              "      <td>Y</td>\n",
              "    </tr>\n",
              "    <tr>\n",
              "      <th>3</th>\n",
              "      <td>01-01-2015 01:00</td>\n",
              "      <td>Manhattan</td>\n",
              "      <td>5258</td>\n",
              "      <td>5.0</td>\n",
              "      <td>10.0</td>\n",
              "      <td>30.0</td>\n",
              "      <td>7.0</td>\n",
              "      <td>1023.5</td>\n",
              "      <td>0.0</td>\n",
              "      <td>0.0</td>\n",
              "      <td>0.0</td>\n",
              "      <td>0.0</td>\n",
              "      <td>Y</td>\n",
              "    </tr>\n",
              "    <tr>\n",
              "      <th>4</th>\n",
              "      <td>01-01-2015 01:00</td>\n",
              "      <td>Queens</td>\n",
              "      <td>405</td>\n",
              "      <td>5.0</td>\n",
              "      <td>10.0</td>\n",
              "      <td>30.0</td>\n",
              "      <td>7.0</td>\n",
              "      <td>1023.5</td>\n",
              "      <td>0.0</td>\n",
              "      <td>0.0</td>\n",
              "      <td>0.0</td>\n",
              "      <td>0.0</td>\n",
              "      <td>Y</td>\n",
              "    </tr>\n",
              "  </tbody>\n",
              "</table>\n",
              "</div>\n",
              "      <button class=\"colab-df-convert\" onclick=\"convertToInteractive('df-98183f87-cfbb-42ff-a366-00ff4a407469')\"\n",
              "              title=\"Convert this dataframe to an interactive table.\"\n",
              "              style=\"display:none;\">\n",
              "        \n",
              "  <svg xmlns=\"http://www.w3.org/2000/svg\" height=\"24px\"viewBox=\"0 0 24 24\"\n",
              "       width=\"24px\">\n",
              "    <path d=\"M0 0h24v24H0V0z\" fill=\"none\"/>\n",
              "    <path d=\"M18.56 5.44l.94 2.06.94-2.06 2.06-.94-2.06-.94-.94-2.06-.94 2.06-2.06.94zm-11 1L8.5 8.5l.94-2.06 2.06-.94-2.06-.94L8.5 2.5l-.94 2.06-2.06.94zm10 10l.94 2.06.94-2.06 2.06-.94-2.06-.94-.94-2.06-.94 2.06-2.06.94z\"/><path d=\"M17.41 7.96l-1.37-1.37c-.4-.4-.92-.59-1.43-.59-.52 0-1.04.2-1.43.59L10.3 9.45l-7.72 7.72c-.78.78-.78 2.05 0 2.83L4 21.41c.39.39.9.59 1.41.59.51 0 1.02-.2 1.41-.59l7.78-7.78 2.81-2.81c.8-.78.8-2.07 0-2.86zM5.41 20L4 18.59l7.72-7.72 1.47 1.35L5.41 20z\"/>\n",
              "  </svg>\n",
              "      </button>\n",
              "      \n",
              "  <style>\n",
              "    .colab-df-container {\n",
              "      display:flex;\n",
              "      flex-wrap:wrap;\n",
              "      gap: 12px;\n",
              "    }\n",
              "\n",
              "    .colab-df-convert {\n",
              "      background-color: #E8F0FE;\n",
              "      border: none;\n",
              "      border-radius: 50%;\n",
              "      cursor: pointer;\n",
              "      display: none;\n",
              "      fill: #1967D2;\n",
              "      height: 32px;\n",
              "      padding: 0 0 0 0;\n",
              "      width: 32px;\n",
              "    }\n",
              "\n",
              "    .colab-df-convert:hover {\n",
              "      background-color: #E2EBFA;\n",
              "      box-shadow: 0px 1px 2px rgba(60, 64, 67, 0.3), 0px 1px 3px 1px rgba(60, 64, 67, 0.15);\n",
              "      fill: #174EA6;\n",
              "    }\n",
              "\n",
              "    [theme=dark] .colab-df-convert {\n",
              "      background-color: #3B4455;\n",
              "      fill: #D2E3FC;\n",
              "    }\n",
              "\n",
              "    [theme=dark] .colab-df-convert:hover {\n",
              "      background-color: #434B5C;\n",
              "      box-shadow: 0px 1px 3px 1px rgba(0, 0, 0, 0.15);\n",
              "      filter: drop-shadow(0px 1px 2px rgba(0, 0, 0, 0.3));\n",
              "      fill: #FFFFFF;\n",
              "    }\n",
              "  </style>\n",
              "\n",
              "      <script>\n",
              "        const buttonEl =\n",
              "          document.querySelector('#df-98183f87-cfbb-42ff-a366-00ff4a407469 button.colab-df-convert');\n",
              "        buttonEl.style.display =\n",
              "          google.colab.kernel.accessAllowed ? 'block' : 'none';\n",
              "\n",
              "        async function convertToInteractive(key) {\n",
              "          const element = document.querySelector('#df-98183f87-cfbb-42ff-a366-00ff4a407469');\n",
              "          const dataTable =\n",
              "            await google.colab.kernel.invokeFunction('convertToInteractive',\n",
              "                                                     [key], {});\n",
              "          if (!dataTable) return;\n",
              "\n",
              "          const docLinkHtml = 'Like what you see? Visit the ' +\n",
              "            '<a target=\"_blank\" href=https://colab.research.google.com/notebooks/data_table.ipynb>data table notebook</a>'\n",
              "            + ' to learn more about interactive tables.';\n",
              "          element.innerHTML = '';\n",
              "          dataTable['output_type'] = 'display_data';\n",
              "          await google.colab.output.renderOutput(dataTable, element);\n",
              "          const docLink = document.createElement('div');\n",
              "          docLink.innerHTML = docLinkHtml;\n",
              "          element.appendChild(docLink);\n",
              "        }\n",
              "      </script>\n",
              "    </div>\n",
              "  </div>\n",
              "  "
            ]
          },
          "metadata": {},
          "execution_count": 53
        }
      ]
    },
    {
      "cell_type": "markdown",
      "metadata": {
        "id": "ymfvv11nCmMI"
      },
      "source": [
        "### **Checking the shape of the dataset**"
      ]
    },
    {
      "cell_type": "code",
      "execution_count": null,
      "metadata": {
        "id": "cF4tL1ZlCmMI",
        "colab": {
          "base_uri": "https://localhost:8080/"
        },
        "outputId": "8f1fdd0d-549b-481e-a64a-2a874f6cd96d"
      },
      "outputs": [
        {
          "output_type": "execute_result",
          "data": {
            "text/plain": [
              "(29101, 13)"
            ]
          },
          "metadata": {},
          "execution_count": 55
        }
      ],
      "source": [
        "df.shape"
      ]
    },
    {
      "cell_type": "markdown",
      "metadata": {
        "id": "0rwGjIn8CmML"
      },
      "source": [
        "###**Checking the data types of the columns for the dataset**"
      ]
    },
    {
      "cell_type": "code",
      "execution_count": null,
      "metadata": {
        "id": "VJzNZtiBCmMM",
        "colab": {
          "base_uri": "https://localhost:8080/"
        },
        "outputId": "91ee9eb3-82a1-4d16-d5d4-df4a442d3cf4"
      },
      "outputs": [
        {
          "output_type": "stream",
          "name": "stdout",
          "text": [
            "<class 'pandas.core.frame.DataFrame'>\n",
            "RangeIndex: 29101 entries, 0 to 29100\n",
            "Data columns (total 13 columns):\n",
            " #   Column     Non-Null Count  Dtype  \n",
            "---  ------     --------------  -----  \n",
            " 0   pickup_dt  29101 non-null  object \n",
            " 1   borough    26058 non-null  object \n",
            " 2   pickups    29101 non-null  int64  \n",
            " 3   spd        29101 non-null  float64\n",
            " 4   vsb        29101 non-null  float64\n",
            " 5   temp       28742 non-null  float64\n",
            " 6   dewp       29101 non-null  float64\n",
            " 7   slp        29101 non-null  float64\n",
            " 8   pcp01      29101 non-null  float64\n",
            " 9   pcp06      29101 non-null  float64\n",
            " 10  pcp24      29101 non-null  float64\n",
            " 11  sd         29101 non-null  float64\n",
            " 12  hday       29101 non-null  object \n",
            "dtypes: float64(9), int64(1), object(3)\n",
            "memory usage: 2.9+ MB\n"
          ]
        }
      ],
      "source": [
        "df.info()\n",
        "\n",
        "# Age - Numerical (Intger, Float)\n",
        "# Object --> Age --> inspect"
      ]
    },
    {
      "cell_type": "markdown",
      "metadata": {
        "id": "QDaaq4453upr"
      },
      "source": [
        "### **Getting the statistical summary for the dataset**"
      ]
    },
    {
      "cell_type": "code",
      "execution_count": null,
      "metadata": {
        "id": "n1lUl2IoCmMW",
        "colab": {
          "base_uri": "https://localhost:8080/",
          "height": 300
        },
        "outputId": "8c876cb1-03e9-48c9-c04e-ca55272eb255"
      },
      "outputs": [
        {
          "output_type": "execute_result",
          "data": {
            "text/plain": [
              "            pickups           spd           vsb          temp          dewp  \\\n",
              "count  29101.000000  29101.000000  29101.000000  28742.000000  29101.000000   \n",
              "mean     490.215903      5.984924      8.818125     47.900019     30.823065   \n",
              "std      995.649536      3.699007      2.442897     19.798783     21.283444   \n",
              "min        0.000000      0.000000      0.000000      2.000000    -16.000000   \n",
              "25%        1.000000      3.000000      9.100000     32.000000     14.000000   \n",
              "50%       54.000000      6.000000     10.000000     46.500000     30.000000   \n",
              "75%      449.000000      8.000000     10.000000     65.000000     50.000000   \n",
              "max     7883.000000     21.000000     10.000000     89.000000     73.000000   \n",
              "\n",
              "                slp         pcp01         pcp06         pcp24            sd  \n",
              "count  29101.000000  29101.000000  29101.000000  29101.000000  29101.000000  \n",
              "mean    1017.817938      0.003830      0.026129      0.090464      2.529169  \n",
              "std        7.768796      0.018933      0.093125      0.219402      4.520325  \n",
              "min      991.400000      0.000000      0.000000      0.000000      0.000000  \n",
              "25%     1012.500000      0.000000      0.000000      0.000000      0.000000  \n",
              "50%     1018.200000      0.000000      0.000000      0.000000      0.000000  \n",
              "75%     1022.900000      0.000000      0.000000      0.050000      2.958333  \n",
              "max     1043.400000      0.280000      1.240000      2.100000     19.000000  "
            ],
            "text/html": [
              "\n",
              "  <div id=\"df-3c3df6f1-a387-44ec-b6d6-bfab17166b81\">\n",
              "    <div class=\"colab-df-container\">\n",
              "      <div>\n",
              "<style scoped>\n",
              "    .dataframe tbody tr th:only-of-type {\n",
              "        vertical-align: middle;\n",
              "    }\n",
              "\n",
              "    .dataframe tbody tr th {\n",
              "        vertical-align: top;\n",
              "    }\n",
              "\n",
              "    .dataframe thead th {\n",
              "        text-align: right;\n",
              "    }\n",
              "</style>\n",
              "<table border=\"1\" class=\"dataframe\">\n",
              "  <thead>\n",
              "    <tr style=\"text-align: right;\">\n",
              "      <th></th>\n",
              "      <th>pickups</th>\n",
              "      <th>spd</th>\n",
              "      <th>vsb</th>\n",
              "      <th>temp</th>\n",
              "      <th>dewp</th>\n",
              "      <th>slp</th>\n",
              "      <th>pcp01</th>\n",
              "      <th>pcp06</th>\n",
              "      <th>pcp24</th>\n",
              "      <th>sd</th>\n",
              "    </tr>\n",
              "  </thead>\n",
              "  <tbody>\n",
              "    <tr>\n",
              "      <th>count</th>\n",
              "      <td>29101.000000</td>\n",
              "      <td>29101.000000</td>\n",
              "      <td>29101.000000</td>\n",
              "      <td>28742.000000</td>\n",
              "      <td>29101.000000</td>\n",
              "      <td>29101.000000</td>\n",
              "      <td>29101.000000</td>\n",
              "      <td>29101.000000</td>\n",
              "      <td>29101.000000</td>\n",
              "      <td>29101.000000</td>\n",
              "    </tr>\n",
              "    <tr>\n",
              "      <th>mean</th>\n",
              "      <td>490.215903</td>\n",
              "      <td>5.984924</td>\n",
              "      <td>8.818125</td>\n",
              "      <td>47.900019</td>\n",
              "      <td>30.823065</td>\n",
              "      <td>1017.817938</td>\n",
              "      <td>0.003830</td>\n",
              "      <td>0.026129</td>\n",
              "      <td>0.090464</td>\n",
              "      <td>2.529169</td>\n",
              "    </tr>\n",
              "    <tr>\n",
              "      <th>std</th>\n",
              "      <td>995.649536</td>\n",
              "      <td>3.699007</td>\n",
              "      <td>2.442897</td>\n",
              "      <td>19.798783</td>\n",
              "      <td>21.283444</td>\n",
              "      <td>7.768796</td>\n",
              "      <td>0.018933</td>\n",
              "      <td>0.093125</td>\n",
              "      <td>0.219402</td>\n",
              "      <td>4.520325</td>\n",
              "    </tr>\n",
              "    <tr>\n",
              "      <th>min</th>\n",
              "      <td>0.000000</td>\n",
              "      <td>0.000000</td>\n",
              "      <td>0.000000</td>\n",
              "      <td>2.000000</td>\n",
              "      <td>-16.000000</td>\n",
              "      <td>991.400000</td>\n",
              "      <td>0.000000</td>\n",
              "      <td>0.000000</td>\n",
              "      <td>0.000000</td>\n",
              "      <td>0.000000</td>\n",
              "    </tr>\n",
              "    <tr>\n",
              "      <th>25%</th>\n",
              "      <td>1.000000</td>\n",
              "      <td>3.000000</td>\n",
              "      <td>9.100000</td>\n",
              "      <td>32.000000</td>\n",
              "      <td>14.000000</td>\n",
              "      <td>1012.500000</td>\n",
              "      <td>0.000000</td>\n",
              "      <td>0.000000</td>\n",
              "      <td>0.000000</td>\n",
              "      <td>0.000000</td>\n",
              "    </tr>\n",
              "    <tr>\n",
              "      <th>50%</th>\n",
              "      <td>54.000000</td>\n",
              "      <td>6.000000</td>\n",
              "      <td>10.000000</td>\n",
              "      <td>46.500000</td>\n",
              "      <td>30.000000</td>\n",
              "      <td>1018.200000</td>\n",
              "      <td>0.000000</td>\n",
              "      <td>0.000000</td>\n",
              "      <td>0.000000</td>\n",
              "      <td>0.000000</td>\n",
              "    </tr>\n",
              "    <tr>\n",
              "      <th>75%</th>\n",
              "      <td>449.000000</td>\n",
              "      <td>8.000000</td>\n",
              "      <td>10.000000</td>\n",
              "      <td>65.000000</td>\n",
              "      <td>50.000000</td>\n",
              "      <td>1022.900000</td>\n",
              "      <td>0.000000</td>\n",
              "      <td>0.000000</td>\n",
              "      <td>0.050000</td>\n",
              "      <td>2.958333</td>\n",
              "    </tr>\n",
              "    <tr>\n",
              "      <th>max</th>\n",
              "      <td>7883.000000</td>\n",
              "      <td>21.000000</td>\n",
              "      <td>10.000000</td>\n",
              "      <td>89.000000</td>\n",
              "      <td>73.000000</td>\n",
              "      <td>1043.400000</td>\n",
              "      <td>0.280000</td>\n",
              "      <td>1.240000</td>\n",
              "      <td>2.100000</td>\n",
              "      <td>19.000000</td>\n",
              "    </tr>\n",
              "  </tbody>\n",
              "</table>\n",
              "</div>\n",
              "      <button class=\"colab-df-convert\" onclick=\"convertToInteractive('df-3c3df6f1-a387-44ec-b6d6-bfab17166b81')\"\n",
              "              title=\"Convert this dataframe to an interactive table.\"\n",
              "              style=\"display:none;\">\n",
              "        \n",
              "  <svg xmlns=\"http://www.w3.org/2000/svg\" height=\"24px\"viewBox=\"0 0 24 24\"\n",
              "       width=\"24px\">\n",
              "    <path d=\"M0 0h24v24H0V0z\" fill=\"none\"/>\n",
              "    <path d=\"M18.56 5.44l.94 2.06.94-2.06 2.06-.94-2.06-.94-.94-2.06-.94 2.06-2.06.94zm-11 1L8.5 8.5l.94-2.06 2.06-.94-2.06-.94L8.5 2.5l-.94 2.06-2.06.94zm10 10l.94 2.06.94-2.06 2.06-.94-2.06-.94-.94-2.06-.94 2.06-2.06.94z\"/><path d=\"M17.41 7.96l-1.37-1.37c-.4-.4-.92-.59-1.43-.59-.52 0-1.04.2-1.43.59L10.3 9.45l-7.72 7.72c-.78.78-.78 2.05 0 2.83L4 21.41c.39.39.9.59 1.41.59.51 0 1.02-.2 1.41-.59l7.78-7.78 2.81-2.81c.8-.78.8-2.07 0-2.86zM5.41 20L4 18.59l7.72-7.72 1.47 1.35L5.41 20z\"/>\n",
              "  </svg>\n",
              "      </button>\n",
              "      \n",
              "  <style>\n",
              "    .colab-df-container {\n",
              "      display:flex;\n",
              "      flex-wrap:wrap;\n",
              "      gap: 12px;\n",
              "    }\n",
              "\n",
              "    .colab-df-convert {\n",
              "      background-color: #E8F0FE;\n",
              "      border: none;\n",
              "      border-radius: 50%;\n",
              "      cursor: pointer;\n",
              "      display: none;\n",
              "      fill: #1967D2;\n",
              "      height: 32px;\n",
              "      padding: 0 0 0 0;\n",
              "      width: 32px;\n",
              "    }\n",
              "\n",
              "    .colab-df-convert:hover {\n",
              "      background-color: #E2EBFA;\n",
              "      box-shadow: 0px 1px 2px rgba(60, 64, 67, 0.3), 0px 1px 3px 1px rgba(60, 64, 67, 0.15);\n",
              "      fill: #174EA6;\n",
              "    }\n",
              "\n",
              "    [theme=dark] .colab-df-convert {\n",
              "      background-color: #3B4455;\n",
              "      fill: #D2E3FC;\n",
              "    }\n",
              "\n",
              "    [theme=dark] .colab-df-convert:hover {\n",
              "      background-color: #434B5C;\n",
              "      box-shadow: 0px 1px 3px 1px rgba(0, 0, 0, 0.15);\n",
              "      filter: drop-shadow(0px 1px 2px rgba(0, 0, 0, 0.3));\n",
              "      fill: #FFFFFF;\n",
              "    }\n",
              "  </style>\n",
              "\n",
              "      <script>\n",
              "        const buttonEl =\n",
              "          document.querySelector('#df-3c3df6f1-a387-44ec-b6d6-bfab17166b81 button.colab-df-convert');\n",
              "        buttonEl.style.display =\n",
              "          google.colab.kernel.accessAllowed ? 'block' : 'none';\n",
              "\n",
              "        async function convertToInteractive(key) {\n",
              "          const element = document.querySelector('#df-3c3df6f1-a387-44ec-b6d6-bfab17166b81');\n",
              "          const dataTable =\n",
              "            await google.colab.kernel.invokeFunction('convertToInteractive',\n",
              "                                                     [key], {});\n",
              "          if (!dataTable) return;\n",
              "\n",
              "          const docLinkHtml = 'Like what you see? Visit the ' +\n",
              "            '<a target=\"_blank\" href=https://colab.research.google.com/notebooks/data_table.ipynb>data table notebook</a>'\n",
              "            + ' to learn more about interactive tables.';\n",
              "          element.innerHTML = '';\n",
              "          dataTable['output_type'] = 'display_data';\n",
              "          await google.colab.output.renderOutput(dataTable, element);\n",
              "          const docLink = document.createElement('div');\n",
              "          docLink.innerHTML = docLinkHtml;\n",
              "          element.appendChild(docLink);\n",
              "        }\n",
              "      </script>\n",
              "    </div>\n",
              "  </div>\n",
              "  "
            ]
          },
          "metadata": {},
          "execution_count": 57
        }
      ],
      "source": [
        "df.describe()\n",
        "\n",
        "# statistical summary of every column\n",
        "# distribution of every column - skew\n",
        "# outlier - influential, noisy\n",
        "# variation\n",
        "\n",
        "# Skew --> there might be a chance I have to remove the skew - Data Transformation \n",
        "# ML model can fit better to data\n"
      ]
    },
    {
      "cell_type": "markdown",
      "metadata": {
        "id": "svBC9nXK3upt"
      },
      "source": [
        "#### **Let's check the count of each unique category in each of the categorical/object type variables.**"
      ]
    },
    {
      "cell_type": "code",
      "source": [
        "df['borough'].unique()"
      ],
      "metadata": {
        "id": "fFdmyY41d4zX",
        "colab": {
          "base_uri": "https://localhost:8080/"
        },
        "outputId": "0f860d04-976b-4e4e-b484-ec68f1541f57"
      },
      "execution_count": null,
      "outputs": [
        {
          "output_type": "execute_result",
          "data": {
            "text/plain": [
              "array(['Bronx', 'Brooklyn', 'EWR', 'Manhattan', 'Queens', 'Staten Island',\n",
              "       nan], dtype=object)"
            ]
          },
          "metadata": {},
          "execution_count": 58
        }
      ]
    },
    {
      "cell_type": "code",
      "source": [
        "nan --> not a number"
      ],
      "metadata": {
        "id": "HJRlHLgzkhm7"
      },
      "execution_count": null,
      "outputs": []
    },
    {
      "cell_type": "code",
      "source": [
        "df['borough'].nunique()"
      ],
      "metadata": {
        "id": "YKKMFM3X4ChF",
        "colab": {
          "base_uri": "https://localhost:8080/"
        },
        "outputId": "f4fb3bdf-9415-441b-edff-36a791e41e7e"
      },
      "execution_count": null,
      "outputs": [
        {
          "output_type": "execute_result",
          "data": {
            "text/plain": [
              "6"
            ]
          },
          "metadata": {},
          "execution_count": 59
        }
      ]
    },
    {
      "cell_type": "markdown",
      "source": [
        "- *We can observe that there are 6 unique boroughs present in the dataset for New York*"
      ],
      "metadata": {
        "id": "BYxuTDfyelS_"
      }
    },
    {
      "cell_type": "code",
      "source": [
        "df['hday'].value_counts(normalize=True)"
      ],
      "metadata": {
        "id": "w7a6Jc09d-sK",
        "colab": {
          "base_uri": "https://localhost:8080/"
        },
        "outputId": "75c35572-25c2-426d-d14b-7fb39d82e574"
      },
      "execution_count": null,
      "outputs": [
        {
          "output_type": "execute_result",
          "data": {
            "text/plain": [
              "N    0.961479\n",
              "Y    0.038521\n",
              "Name: hday, dtype: float64"
            ]
          },
          "metadata": {},
          "execution_count": 60
        }
      ]
    },
    {
      "cell_type": "code",
      "source": [
        "df['borough'].value_counts(normalize=True)"
      ],
      "metadata": {
        "colab": {
          "base_uri": "https://localhost:8080/"
        },
        "id": "wpRzPxaIksCO",
        "outputId": "8500be33-6b36-4ee0-a014-cccb353781d4"
      },
      "execution_count": null,
      "outputs": [
        {
          "output_type": "execute_result",
          "data": {
            "text/plain": [
              "Bronx            0.166667\n",
              "Brooklyn         0.166667\n",
              "EWR              0.166667\n",
              "Manhattan        0.166667\n",
              "Queens           0.166667\n",
              "Staten Island    0.166667\n",
              "Name: borough, dtype: float64"
            ]
          },
          "metadata": {},
          "execution_count": 63
        }
      ]
    },
    {
      "cell_type": "markdown",
      "metadata": {
        "id": "HSpYcGWICmMP"
      },
      "source": [
        "#### **Standardise the datatypes**"
      ]
    },
    {
      "cell_type": "code",
      "source": [
        "# Let us change the data type of pickup_dt to date-time format.\n",
        "df['pickup_dt'][:5]"
      ],
      "metadata": {
        "id": "GF9sDThl4Ra3",
        "colab": {
          "base_uri": "https://localhost:8080/"
        },
        "outputId": "02a21af0-4d12-43be-93fe-40235d13fd96"
      },
      "execution_count": null,
      "outputs": [
        {
          "output_type": "execute_result",
          "data": {
            "text/plain": [
              "0    01-01-2015 01:00\n",
              "1    01-01-2015 01:00\n",
              "2    01-01-2015 01:00\n",
              "3    01-01-2015 01:00\n",
              "4    01-01-2015 01:00\n",
              "Name: pickup_dt, dtype: object"
            ]
          },
          "metadata": {},
          "execution_count": 64
        }
      ]
    },
    {
      "cell_type": "code",
      "source": [
        "# Datetime --> Standard format for python \n",
        "# YYYY-mm-dd H:M:S\n",
        "\n",
        "# dd-mm-yyyy h:m"
      ],
      "metadata": {
        "id": "74vE3KQClX09"
      },
      "execution_count": null,
      "outputs": []
    },
    {
      "cell_type": "code",
      "execution_count": null,
      "metadata": {
        "id": "HlVBWhiPCmMP"
      },
      "outputs": [],
      "source": [
        "df['pickup_dt'] = pd.to_datetime(df['pickup_dt'], format=\"%d-%m-%Y %H:%M\")"
      ]
    },
    {
      "cell_type": "code",
      "source": [
        "df['pickup_dt'][:5]\n",
        "# yyy-mm-dd H:M:S"
      ],
      "metadata": {
        "id": "DLu7uJnl4fAy",
        "colab": {
          "base_uri": "https://localhost:8080/"
        },
        "outputId": "d63757f9-3ed3-4963-b920-87132c04f7a0"
      },
      "execution_count": null,
      "outputs": [
        {
          "output_type": "execute_result",
          "data": {
            "text/plain": [
              "0   2015-01-01 01:00:00\n",
              "1   2015-01-01 01:00:00\n",
              "2   2015-01-01 01:00:00\n",
              "3   2015-01-01 01:00:00\n",
              "4   2015-01-01 01:00:00\n",
              "Name: pickup_dt, dtype: datetime64[ns]"
            ]
          },
          "metadata": {},
          "execution_count": 66
        }
      ]
    },
    {
      "cell_type": "markdown",
      "source": [
        "Let's check the data types of the columns again to ensure that the change has been executed properly."
      ],
      "metadata": {
        "id": "Si33SFEfqrKu"
      }
    },
    {
      "cell_type": "code",
      "execution_count": null,
      "metadata": {
        "id": "vF39s0gSCmMU",
        "colab": {
          "base_uri": "https://localhost:8080/"
        },
        "outputId": "f25177a9-fdc5-4c85-8459-be7e3c0b8dd0"
      },
      "outputs": [
        {
          "output_type": "stream",
          "name": "stdout",
          "text": [
            "<class 'pandas.core.frame.DataFrame'>\n",
            "RangeIndex: 29101 entries, 0 to 29100\n",
            "Data columns (total 13 columns):\n",
            " #   Column     Non-Null Count  Dtype         \n",
            "---  ------     --------------  -----         \n",
            " 0   pickup_dt  29101 non-null  datetime64[ns]\n",
            " 1   borough    26058 non-null  object        \n",
            " 2   pickups    29101 non-null  int64         \n",
            " 3   spd        29101 non-null  float64       \n",
            " 4   vsb        29101 non-null  float64       \n",
            " 5   temp       28742 non-null  float64       \n",
            " 6   dewp       29101 non-null  float64       \n",
            " 7   slp        29101 non-null  float64       \n",
            " 8   pcp01      29101 non-null  float64       \n",
            " 9   pcp06      29101 non-null  float64       \n",
            " 10  pcp24      29101 non-null  float64       \n",
            " 11  sd         29101 non-null  float64       \n",
            " 12  hday       29101 non-null  object        \n",
            "dtypes: datetime64[ns](1), float64(9), int64(1), object(2)\n",
            "memory usage: 2.9+ MB\n"
          ]
        }
      ],
      "source": [
        "df.info()"
      ]
    },
    {
      "cell_type": "markdown",
      "source": [
        "Now let's check the range of time period for which the data has been collected."
      ],
      "metadata": {
        "id": "aTiD4ChKtFxj"
      }
    },
    {
      "cell_type": "code",
      "source": [
        "df['pickup_dt'].min() # Start Date"
      ],
      "metadata": {
        "id": "UJM-e_7HtPpl",
        "colab": {
          "base_uri": "https://localhost:8080/"
        },
        "outputId": "df8bd1eb-7cf2-43b4-b6a5-070633ad4656"
      },
      "execution_count": null,
      "outputs": [
        {
          "output_type": "execute_result",
          "data": {
            "text/plain": [
              "Timestamp('2015-01-01 01:00:00')"
            ]
          },
          "metadata": {},
          "execution_count": 68
        }
      ]
    },
    {
      "cell_type": "code",
      "source": [
        "df['pickup_dt'].max() # End Date"
      ],
      "metadata": {
        "id": "uygASkFXthBs",
        "colab": {
          "base_uri": "https://localhost:8080/"
        },
        "outputId": "2845031b-f16c-4560-8adb-75b35e08f77a"
      },
      "execution_count": null,
      "outputs": [
        {
          "output_type": "execute_result",
          "data": {
            "text/plain": [
              "Timestamp('2015-06-30 23:00:00')"
            ]
          },
          "metadata": {},
          "execution_count": 69
        }
      ]
    },
    {
      "cell_type": "code",
      "source": [
        "Feature Engineering --> Deriving useful features from raw data"
      ],
      "metadata": {
        "id": "ZWa6emwZl3p8"
      },
      "execution_count": null,
      "outputs": []
    },
    {
      "cell_type": "code",
      "source": [
        "df.head()"
      ],
      "metadata": {
        "colab": {
          "base_uri": "https://localhost:8080/",
          "height": 206
        },
        "id": "KyXSK99Zl9ys",
        "outputId": "84ee26f5-a4c6-4b9f-c59f-d0c0059a7ad3"
      },
      "execution_count": null,
      "outputs": [
        {
          "output_type": "execute_result",
          "data": {
            "text/plain": [
              "            pickup_dt    borough  pickups  spd   vsb  temp  dewp     slp  \\\n",
              "0 2015-01-01 01:00:00      Bronx      152  5.0  10.0  30.0   7.0  1023.5   \n",
              "1 2015-01-01 01:00:00   Brooklyn     1519  5.0  10.0   NaN   7.0  1023.5   \n",
              "2 2015-01-01 01:00:00        EWR        0  5.0  10.0  30.0   7.0  1023.5   \n",
              "3 2015-01-01 01:00:00  Manhattan     5258  5.0  10.0  30.0   7.0  1023.5   \n",
              "4 2015-01-01 01:00:00     Queens      405  5.0  10.0  30.0   7.0  1023.5   \n",
              "\n",
              "   pcp01  pcp06  pcp24   sd hday  \n",
              "0    0.0    0.0    0.0  0.0    Y  \n",
              "1    0.0    0.0    0.0  0.0    Y  \n",
              "2    0.0    0.0    0.0  0.0    Y  \n",
              "3    0.0    0.0    0.0  0.0    Y  \n",
              "4    0.0    0.0    0.0  0.0    Y  "
            ],
            "text/html": [
              "\n",
              "  <div id=\"df-077ab262-e663-42b1-b2d8-9603fc0855b6\">\n",
              "    <div class=\"colab-df-container\">\n",
              "      <div>\n",
              "<style scoped>\n",
              "    .dataframe tbody tr th:only-of-type {\n",
              "        vertical-align: middle;\n",
              "    }\n",
              "\n",
              "    .dataframe tbody tr th {\n",
              "        vertical-align: top;\n",
              "    }\n",
              "\n",
              "    .dataframe thead th {\n",
              "        text-align: right;\n",
              "    }\n",
              "</style>\n",
              "<table border=\"1\" class=\"dataframe\">\n",
              "  <thead>\n",
              "    <tr style=\"text-align: right;\">\n",
              "      <th></th>\n",
              "      <th>pickup_dt</th>\n",
              "      <th>borough</th>\n",
              "      <th>pickups</th>\n",
              "      <th>spd</th>\n",
              "      <th>vsb</th>\n",
              "      <th>temp</th>\n",
              "      <th>dewp</th>\n",
              "      <th>slp</th>\n",
              "      <th>pcp01</th>\n",
              "      <th>pcp06</th>\n",
              "      <th>pcp24</th>\n",
              "      <th>sd</th>\n",
              "      <th>hday</th>\n",
              "    </tr>\n",
              "  </thead>\n",
              "  <tbody>\n",
              "    <tr>\n",
              "      <th>0</th>\n",
              "      <td>2015-01-01 01:00:00</td>\n",
              "      <td>Bronx</td>\n",
              "      <td>152</td>\n",
              "      <td>5.0</td>\n",
              "      <td>10.0</td>\n",
              "      <td>30.0</td>\n",
              "      <td>7.0</td>\n",
              "      <td>1023.5</td>\n",
              "      <td>0.0</td>\n",
              "      <td>0.0</td>\n",
              "      <td>0.0</td>\n",
              "      <td>0.0</td>\n",
              "      <td>Y</td>\n",
              "    </tr>\n",
              "    <tr>\n",
              "      <th>1</th>\n",
              "      <td>2015-01-01 01:00:00</td>\n",
              "      <td>Brooklyn</td>\n",
              "      <td>1519</td>\n",
              "      <td>5.0</td>\n",
              "      <td>10.0</td>\n",
              "      <td>NaN</td>\n",
              "      <td>7.0</td>\n",
              "      <td>1023.5</td>\n",
              "      <td>0.0</td>\n",
              "      <td>0.0</td>\n",
              "      <td>0.0</td>\n",
              "      <td>0.0</td>\n",
              "      <td>Y</td>\n",
              "    </tr>\n",
              "    <tr>\n",
              "      <th>2</th>\n",
              "      <td>2015-01-01 01:00:00</td>\n",
              "      <td>EWR</td>\n",
              "      <td>0</td>\n",
              "      <td>5.0</td>\n",
              "      <td>10.0</td>\n",
              "      <td>30.0</td>\n",
              "      <td>7.0</td>\n",
              "      <td>1023.5</td>\n",
              "      <td>0.0</td>\n",
              "      <td>0.0</td>\n",
              "      <td>0.0</td>\n",
              "      <td>0.0</td>\n",
              "      <td>Y</td>\n",
              "    </tr>\n",
              "    <tr>\n",
              "      <th>3</th>\n",
              "      <td>2015-01-01 01:00:00</td>\n",
              "      <td>Manhattan</td>\n",
              "      <td>5258</td>\n",
              "      <td>5.0</td>\n",
              "      <td>10.0</td>\n",
              "      <td>30.0</td>\n",
              "      <td>7.0</td>\n",
              "      <td>1023.5</td>\n",
              "      <td>0.0</td>\n",
              "      <td>0.0</td>\n",
              "      <td>0.0</td>\n",
              "      <td>0.0</td>\n",
              "      <td>Y</td>\n",
              "    </tr>\n",
              "    <tr>\n",
              "      <th>4</th>\n",
              "      <td>2015-01-01 01:00:00</td>\n",
              "      <td>Queens</td>\n",
              "      <td>405</td>\n",
              "      <td>5.0</td>\n",
              "      <td>10.0</td>\n",
              "      <td>30.0</td>\n",
              "      <td>7.0</td>\n",
              "      <td>1023.5</td>\n",
              "      <td>0.0</td>\n",
              "      <td>0.0</td>\n",
              "      <td>0.0</td>\n",
              "      <td>0.0</td>\n",
              "      <td>Y</td>\n",
              "    </tr>\n",
              "  </tbody>\n",
              "</table>\n",
              "</div>\n",
              "      <button class=\"colab-df-convert\" onclick=\"convertToInteractive('df-077ab262-e663-42b1-b2d8-9603fc0855b6')\"\n",
              "              title=\"Convert this dataframe to an interactive table.\"\n",
              "              style=\"display:none;\">\n",
              "        \n",
              "  <svg xmlns=\"http://www.w3.org/2000/svg\" height=\"24px\"viewBox=\"0 0 24 24\"\n",
              "       width=\"24px\">\n",
              "    <path d=\"M0 0h24v24H0V0z\" fill=\"none\"/>\n",
              "    <path d=\"M18.56 5.44l.94 2.06.94-2.06 2.06-.94-2.06-.94-.94-2.06-.94 2.06-2.06.94zm-11 1L8.5 8.5l.94-2.06 2.06-.94-2.06-.94L8.5 2.5l-.94 2.06-2.06.94zm10 10l.94 2.06.94-2.06 2.06-.94-2.06-.94-.94-2.06-.94 2.06-2.06.94z\"/><path d=\"M17.41 7.96l-1.37-1.37c-.4-.4-.92-.59-1.43-.59-.52 0-1.04.2-1.43.59L10.3 9.45l-7.72 7.72c-.78.78-.78 2.05 0 2.83L4 21.41c.39.39.9.59 1.41.59.51 0 1.02-.2 1.41-.59l7.78-7.78 2.81-2.81c.8-.78.8-2.07 0-2.86zM5.41 20L4 18.59l7.72-7.72 1.47 1.35L5.41 20z\"/>\n",
              "  </svg>\n",
              "      </button>\n",
              "      \n",
              "  <style>\n",
              "    .colab-df-container {\n",
              "      display:flex;\n",
              "      flex-wrap:wrap;\n",
              "      gap: 12px;\n",
              "    }\n",
              "\n",
              "    .colab-df-convert {\n",
              "      background-color: #E8F0FE;\n",
              "      border: none;\n",
              "      border-radius: 50%;\n",
              "      cursor: pointer;\n",
              "      display: none;\n",
              "      fill: #1967D2;\n",
              "      height: 32px;\n",
              "      padding: 0 0 0 0;\n",
              "      width: 32px;\n",
              "    }\n",
              "\n",
              "    .colab-df-convert:hover {\n",
              "      background-color: #E2EBFA;\n",
              "      box-shadow: 0px 1px 2px rgba(60, 64, 67, 0.3), 0px 1px 3px 1px rgba(60, 64, 67, 0.15);\n",
              "      fill: #174EA6;\n",
              "    }\n",
              "\n",
              "    [theme=dark] .colab-df-convert {\n",
              "      background-color: #3B4455;\n",
              "      fill: #D2E3FC;\n",
              "    }\n",
              "\n",
              "    [theme=dark] .colab-df-convert:hover {\n",
              "      background-color: #434B5C;\n",
              "      box-shadow: 0px 1px 3px 1px rgba(0, 0, 0, 0.15);\n",
              "      filter: drop-shadow(0px 1px 2px rgba(0, 0, 0, 0.3));\n",
              "      fill: #FFFFFF;\n",
              "    }\n",
              "  </style>\n",
              "\n",
              "      <script>\n",
              "        const buttonEl =\n",
              "          document.querySelector('#df-077ab262-e663-42b1-b2d8-9603fc0855b6 button.colab-df-convert');\n",
              "        buttonEl.style.display =\n",
              "          google.colab.kernel.accessAllowed ? 'block' : 'none';\n",
              "\n",
              "        async function convertToInteractive(key) {\n",
              "          const element = document.querySelector('#df-077ab262-e663-42b1-b2d8-9603fc0855b6');\n",
              "          const dataTable =\n",
              "            await google.colab.kernel.invokeFunction('convertToInteractive',\n",
              "                                                     [key], {});\n",
              "          if (!dataTable) return;\n",
              "\n",
              "          const docLinkHtml = 'Like what you see? Visit the ' +\n",
              "            '<a target=\"_blank\" href=https://colab.research.google.com/notebooks/data_table.ipynb>data table notebook</a>'\n",
              "            + ' to learn more about interactive tables.';\n",
              "          element.innerHTML = '';\n",
              "          dataTable['output_type'] = 'display_data';\n",
              "          await google.colab.output.renderOutput(dataTable, element);\n",
              "          const docLink = document.createElement('div');\n",
              "          docLink.innerHTML = docLinkHtml;\n",
              "          element.appendChild(docLink);\n",
              "        }\n",
              "      </script>\n",
              "    </div>\n",
              "  </div>\n",
              "  "
            ]
          },
          "metadata": {},
          "execution_count": 70
        }
      ]
    },
    {
      "cell_type": "markdown",
      "metadata": {
        "id": "anXwYwBpnzoa"
      },
      "source": [
        "#### **Extracting date parts from pickup date**"
      ]
    },
    {
      "cell_type": "code",
      "source": [
        "# df.pickup_dt.dt\n",
        "\n",
        "# <df><column>.dt.display\n",
        "# multiple functions"
      ],
      "metadata": {
        "id": "iLQzZQPrmMdt"
      },
      "execution_count": null,
      "outputs": []
    },
    {
      "cell_type": "code",
      "execution_count": null,
      "metadata": {
        "id": "gtg1TE27CmMZ"
      },
      "outputs": [],
      "source": [
        "# Extracting date parts from pickup date\n",
        "df['start_year'] = df.pickup_dt.dt.year # extracting the year from the date\n",
        "df['start_month'] = df.pickup_dt.dt.month_name() # extracting the month name from the date\n",
        "df['start_hour'] = df.pickup_dt.dt.hour # extracting the hour from the time\n",
        "df['start_day'] = df.pickup_dt.dt.day # extracting the day from the date\n",
        "df['week_day'] = df.pickup_dt.dt.day_name() # extracting the day of the week from the date\n",
        "\n",
        "# "
      ]
    },
    {
      "cell_type": "code",
      "source": [
        "df.head()"
      ],
      "metadata": {
        "id": "fxukjc0x6g2K",
        "colab": {
          "base_uri": "https://localhost:8080/",
          "height": 337
        },
        "outputId": "2a6da0e7-a4d1-4792-a6b9-de48636b6991"
      },
      "execution_count": null,
      "outputs": [
        {
          "output_type": "execute_result",
          "data": {
            "text/plain": [
              "            pickup_dt    borough  pickups  spd   vsb  temp  dewp     slp  \\\n",
              "0 2015-01-01 01:00:00      Bronx      152  5.0  10.0  30.0   7.0  1023.5   \n",
              "1 2015-01-01 01:00:00   Brooklyn     1519  5.0  10.0   NaN   7.0  1023.5   \n",
              "2 2015-01-01 01:00:00        EWR        0  5.0  10.0  30.0   7.0  1023.5   \n",
              "3 2015-01-01 01:00:00  Manhattan     5258  5.0  10.0  30.0   7.0  1023.5   \n",
              "4 2015-01-01 01:00:00     Queens      405  5.0  10.0  30.0   7.0  1023.5   \n",
              "\n",
              "   pcp01  pcp06  pcp24   sd hday  start_year  start_month  start_hour  \\\n",
              "0    0.0    0.0    0.0  0.0    Y        2015            1           1   \n",
              "1    0.0    0.0    0.0  0.0    Y        2015            1           1   \n",
              "2    0.0    0.0    0.0  0.0    Y        2015            1           1   \n",
              "3    0.0    0.0    0.0  0.0    Y        2015            1           1   \n",
              "4    0.0    0.0    0.0  0.0    Y        2015            1           1   \n",
              "\n",
              "   start_day  week_day  \n",
              "0          1  Thursday  \n",
              "1          1  Thursday  \n",
              "2          1  Thursday  \n",
              "3          1  Thursday  \n",
              "4          1  Thursday  "
            ],
            "text/html": [
              "\n",
              "  <div id=\"df-addc9d57-5b05-4e9a-abaa-98a649c7c5a7\">\n",
              "    <div class=\"colab-df-container\">\n",
              "      <div>\n",
              "<style scoped>\n",
              "    .dataframe tbody tr th:only-of-type {\n",
              "        vertical-align: middle;\n",
              "    }\n",
              "\n",
              "    .dataframe tbody tr th {\n",
              "        vertical-align: top;\n",
              "    }\n",
              "\n",
              "    .dataframe thead th {\n",
              "        text-align: right;\n",
              "    }\n",
              "</style>\n",
              "<table border=\"1\" class=\"dataframe\">\n",
              "  <thead>\n",
              "    <tr style=\"text-align: right;\">\n",
              "      <th></th>\n",
              "      <th>pickup_dt</th>\n",
              "      <th>borough</th>\n",
              "      <th>pickups</th>\n",
              "      <th>spd</th>\n",
              "      <th>vsb</th>\n",
              "      <th>temp</th>\n",
              "      <th>dewp</th>\n",
              "      <th>slp</th>\n",
              "      <th>pcp01</th>\n",
              "      <th>pcp06</th>\n",
              "      <th>pcp24</th>\n",
              "      <th>sd</th>\n",
              "      <th>hday</th>\n",
              "      <th>start_year</th>\n",
              "      <th>start_month</th>\n",
              "      <th>start_hour</th>\n",
              "      <th>start_day</th>\n",
              "      <th>week_day</th>\n",
              "    </tr>\n",
              "  </thead>\n",
              "  <tbody>\n",
              "    <tr>\n",
              "      <th>0</th>\n",
              "      <td>2015-01-01 01:00:00</td>\n",
              "      <td>Bronx</td>\n",
              "      <td>152</td>\n",
              "      <td>5.0</td>\n",
              "      <td>10.0</td>\n",
              "      <td>30.0</td>\n",
              "      <td>7.0</td>\n",
              "      <td>1023.5</td>\n",
              "      <td>0.0</td>\n",
              "      <td>0.0</td>\n",
              "      <td>0.0</td>\n",
              "      <td>0.0</td>\n",
              "      <td>Y</td>\n",
              "      <td>2015</td>\n",
              "      <td>1</td>\n",
              "      <td>1</td>\n",
              "      <td>1</td>\n",
              "      <td>Thursday</td>\n",
              "    </tr>\n",
              "    <tr>\n",
              "      <th>1</th>\n",
              "      <td>2015-01-01 01:00:00</td>\n",
              "      <td>Brooklyn</td>\n",
              "      <td>1519</td>\n",
              "      <td>5.0</td>\n",
              "      <td>10.0</td>\n",
              "      <td>NaN</td>\n",
              "      <td>7.0</td>\n",
              "      <td>1023.5</td>\n",
              "      <td>0.0</td>\n",
              "      <td>0.0</td>\n",
              "      <td>0.0</td>\n",
              "      <td>0.0</td>\n",
              "      <td>Y</td>\n",
              "      <td>2015</td>\n",
              "      <td>1</td>\n",
              "      <td>1</td>\n",
              "      <td>1</td>\n",
              "      <td>Thursday</td>\n",
              "    </tr>\n",
              "    <tr>\n",
              "      <th>2</th>\n",
              "      <td>2015-01-01 01:00:00</td>\n",
              "      <td>EWR</td>\n",
              "      <td>0</td>\n",
              "      <td>5.0</td>\n",
              "      <td>10.0</td>\n",
              "      <td>30.0</td>\n",
              "      <td>7.0</td>\n",
              "      <td>1023.5</td>\n",
              "      <td>0.0</td>\n",
              "      <td>0.0</td>\n",
              "      <td>0.0</td>\n",
              "      <td>0.0</td>\n",
              "      <td>Y</td>\n",
              "      <td>2015</td>\n",
              "      <td>1</td>\n",
              "      <td>1</td>\n",
              "      <td>1</td>\n",
              "      <td>Thursday</td>\n",
              "    </tr>\n",
              "    <tr>\n",
              "      <th>3</th>\n",
              "      <td>2015-01-01 01:00:00</td>\n",
              "      <td>Manhattan</td>\n",
              "      <td>5258</td>\n",
              "      <td>5.0</td>\n",
              "      <td>10.0</td>\n",
              "      <td>30.0</td>\n",
              "      <td>7.0</td>\n",
              "      <td>1023.5</td>\n",
              "      <td>0.0</td>\n",
              "      <td>0.0</td>\n",
              "      <td>0.0</td>\n",
              "      <td>0.0</td>\n",
              "      <td>Y</td>\n",
              "      <td>2015</td>\n",
              "      <td>1</td>\n",
              "      <td>1</td>\n",
              "      <td>1</td>\n",
              "      <td>Thursday</td>\n",
              "    </tr>\n",
              "    <tr>\n",
              "      <th>4</th>\n",
              "      <td>2015-01-01 01:00:00</td>\n",
              "      <td>Queens</td>\n",
              "      <td>405</td>\n",
              "      <td>5.0</td>\n",
              "      <td>10.0</td>\n",
              "      <td>30.0</td>\n",
              "      <td>7.0</td>\n",
              "      <td>1023.5</td>\n",
              "      <td>0.0</td>\n",
              "      <td>0.0</td>\n",
              "      <td>0.0</td>\n",
              "      <td>0.0</td>\n",
              "      <td>Y</td>\n",
              "      <td>2015</td>\n",
              "      <td>1</td>\n",
              "      <td>1</td>\n",
              "      <td>1</td>\n",
              "      <td>Thursday</td>\n",
              "    </tr>\n",
              "  </tbody>\n",
              "</table>\n",
              "</div>\n",
              "      <button class=\"colab-df-convert\" onclick=\"convertToInteractive('df-addc9d57-5b05-4e9a-abaa-98a649c7c5a7')\"\n",
              "              title=\"Convert this dataframe to an interactive table.\"\n",
              "              style=\"display:none;\">\n",
              "        \n",
              "  <svg xmlns=\"http://www.w3.org/2000/svg\" height=\"24px\"viewBox=\"0 0 24 24\"\n",
              "       width=\"24px\">\n",
              "    <path d=\"M0 0h24v24H0V0z\" fill=\"none\"/>\n",
              "    <path d=\"M18.56 5.44l.94 2.06.94-2.06 2.06-.94-2.06-.94-.94-2.06-.94 2.06-2.06.94zm-11 1L8.5 8.5l.94-2.06 2.06-.94-2.06-.94L8.5 2.5l-.94 2.06-2.06.94zm10 10l.94 2.06.94-2.06 2.06-.94-2.06-.94-.94-2.06-.94 2.06-2.06.94z\"/><path d=\"M17.41 7.96l-1.37-1.37c-.4-.4-.92-.59-1.43-.59-.52 0-1.04.2-1.43.59L10.3 9.45l-7.72 7.72c-.78.78-.78 2.05 0 2.83L4 21.41c.39.39.9.59 1.41.59.51 0 1.02-.2 1.41-.59l7.78-7.78 2.81-2.81c.8-.78.8-2.07 0-2.86zM5.41 20L4 18.59l7.72-7.72 1.47 1.35L5.41 20z\"/>\n",
              "  </svg>\n",
              "      </button>\n",
              "      \n",
              "  <style>\n",
              "    .colab-df-container {\n",
              "      display:flex;\n",
              "      flex-wrap:wrap;\n",
              "      gap: 12px;\n",
              "    }\n",
              "\n",
              "    .colab-df-convert {\n",
              "      background-color: #E8F0FE;\n",
              "      border: none;\n",
              "      border-radius: 50%;\n",
              "      cursor: pointer;\n",
              "      display: none;\n",
              "      fill: #1967D2;\n",
              "      height: 32px;\n",
              "      padding: 0 0 0 0;\n",
              "      width: 32px;\n",
              "    }\n",
              "\n",
              "    .colab-df-convert:hover {\n",
              "      background-color: #E2EBFA;\n",
              "      box-shadow: 0px 1px 2px rgba(60, 64, 67, 0.3), 0px 1px 3px 1px rgba(60, 64, 67, 0.15);\n",
              "      fill: #174EA6;\n",
              "    }\n",
              "\n",
              "    [theme=dark] .colab-df-convert {\n",
              "      background-color: #3B4455;\n",
              "      fill: #D2E3FC;\n",
              "    }\n",
              "\n",
              "    [theme=dark] .colab-df-convert:hover {\n",
              "      background-color: #434B5C;\n",
              "      box-shadow: 0px 1px 3px 1px rgba(0, 0, 0, 0.15);\n",
              "      filter: drop-shadow(0px 1px 2px rgba(0, 0, 0, 0.3));\n",
              "      fill: #FFFFFF;\n",
              "    }\n",
              "  </style>\n",
              "\n",
              "      <script>\n",
              "        const buttonEl =\n",
              "          document.querySelector('#df-addc9d57-5b05-4e9a-abaa-98a649c7c5a7 button.colab-df-convert');\n",
              "        buttonEl.style.display =\n",
              "          google.colab.kernel.accessAllowed ? 'block' : 'none';\n",
              "\n",
              "        async function convertToInteractive(key) {\n",
              "          const element = document.querySelector('#df-addc9d57-5b05-4e9a-abaa-98a649c7c5a7');\n",
              "          const dataTable =\n",
              "            await google.colab.kernel.invokeFunction('convertToInteractive',\n",
              "                                                     [key], {});\n",
              "          if (!dataTable) return;\n",
              "\n",
              "          const docLinkHtml = 'Like what you see? Visit the ' +\n",
              "            '<a target=\"_blank\" href=https://colab.research.google.com/notebooks/data_table.ipynb>data table notebook</a>'\n",
              "            + ' to learn more about interactive tables.';\n",
              "          element.innerHTML = '';\n",
              "          dataTable['output_type'] = 'display_data';\n",
              "          await google.colab.output.renderOutput(dataTable, element);\n",
              "          const docLink = document.createElement('div');\n",
              "          docLink.innerHTML = docLinkHtml;\n",
              "          element.appendChild(docLink);\n",
              "        }\n",
              "      </script>\n",
              "    </div>\n",
              "  </div>\n",
              "  "
            ]
          },
          "metadata": {},
          "execution_count": 76
        }
      ]
    },
    {
      "cell_type": "code",
      "source": [
        "df.shape"
      ],
      "metadata": {
        "colab": {
          "base_uri": "https://localhost:8080/"
        },
        "id": "8h5TTTcrnE_M",
        "outputId": "77022409-f0f7-46ef-a829-54ae0e508a98"
      },
      "execution_count": null,
      "outputs": [
        {
          "output_type": "execute_result",
          "data": {
            "text/plain": [
              "(29101, 18)"
            ]
          },
          "metadata": {},
          "execution_count": 77
        }
      ]
    },
    {
      "cell_type": "markdown",
      "metadata": {
        "id": "IUsnBs8OrhaL"
      },
      "source": [
        "**We have earlier seen that the `borough` and `temp` columns have missing values in them. So let us see them in detail before moving on to do our EDA.**"
      ]
    },
    {
      "cell_type": "markdown",
      "metadata": {
        "id": "XbECHPQ1CmMj"
      },
      "source": [
        "### **Missing value treatment**"
      ]
    },
    {
      "cell_type": "markdown",
      "source": [
        "One of the commonly used method to deal with the missing values is to impute them with the central tendencies - mean, median, and mode of a column.\n"
      ],
      "metadata": {
        "id": "kqx5hRXonIpb"
      }
    },
    {
      "cell_type": "code",
      "execution_count": null,
      "metadata": {
        "id": "CXXpGJjyCmMk",
        "colab": {
          "base_uri": "https://localhost:8080/"
        },
        "outputId": "56616b8b-f26e-4648-8390-e53231df24e7"
      },
      "outputs": [
        {
          "output_type": "execute_result",
          "data": {
            "text/plain": [
              "pickup_dt         0\n",
              "borough        3043\n",
              "pickups           0\n",
              "spd               0\n",
              "vsb               0\n",
              "temp            359\n",
              "dewp              0\n",
              "slp               0\n",
              "pcp01             0\n",
              "pcp06             0\n",
              "pcp24             0\n",
              "sd                0\n",
              "hday              0\n",
              "start_year        0\n",
              "start_month       0\n",
              "start_hour        0\n",
              "start_day         0\n",
              "week_day          0\n",
              "dtype: int64"
            ]
          },
          "metadata": {},
          "execution_count": 78
        }
      ],
      "source": [
        "# checking missing values across each columns\n",
        "df.isnull().sum()"
      ]
    },
    {
      "cell_type": "code",
      "source": [
        "Type\n",
        "Categorical --> \n",
        "Numerical --> "
      ],
      "metadata": {
        "id": "Dqhwje4inWN8"
      },
      "execution_count": null,
      "outputs": []
    },
    {
      "cell_type": "markdown",
      "metadata": {
        "id": "L6g_aCamtaWX"
      },
      "source": [
        "Let us first see the missing value of the `borough` column in detail."
      ]
    },
    {
      "cell_type": "code",
      "execution_count": null,
      "metadata": {
        "id": "smXZ196_CmMm",
        "colab": {
          "base_uri": "https://localhost:8080/"
        },
        "outputId": "f3f10f50-b69d-46c8-99b0-a8f214a17442"
      },
      "outputs": [
        {
          "output_type": "execute_result",
          "data": {
            "text/plain": [
              "Bronx            0.149239\n",
              "Brooklyn         0.149239\n",
              "EWR              0.149239\n",
              "Manhattan        0.149239\n",
              "Queens           0.149239\n",
              "Staten Island    0.149239\n",
              "NaN              0.104567\n",
              "Name: borough, dtype: float64"
            ]
          },
          "metadata": {},
          "execution_count": 79
        }
      ],
      "source": [
        "# Checking the missing values further\n",
        "df.borough.value_counts(normalize=True, dropna=False)"
      ]
    },
    {
      "cell_type": "code",
      "source": [
        "Filling the misisng Value --> Imputation\n",
        "\n",
        "# most frequent category"
      ],
      "metadata": {
        "id": "X8hefv_Xni9d"
      },
      "execution_count": null,
      "outputs": []
    },
    {
      "cell_type": "code",
      "execution_count": null,
      "metadata": {
        "id": "CsRS1e5nCmMo"
      },
      "outputs": [],
      "source": [
        "# Replace the null values present in the borough column with a new label as Unknown\n",
        "df['borough'].fillna('Unknown', inplace = True) "
      ]
    },
    {
      "cell_type": "code",
      "source": [
        "df.borough.value_counts(normalize=True, dropna=False)"
      ],
      "metadata": {
        "id": "f0VkAAr_jmrH",
        "colab": {
          "base_uri": "https://localhost:8080/"
        },
        "outputId": "6a4f6e03-a43e-4a5b-90a3-5b3a9a83b645"
      },
      "execution_count": null,
      "outputs": [
        {
          "output_type": "execute_result",
          "data": {
            "text/plain": [
              "Bronx            0.149239\n",
              "Brooklyn         0.149239\n",
              "EWR              0.149239\n",
              "Manhattan        0.149239\n",
              "Queens           0.149239\n",
              "Staten Island    0.149239\n",
              "Unknown          0.104567\n",
              "Name: borough, dtype: float64"
            ]
          },
          "metadata": {},
          "execution_count": 81
        }
      ]
    },
    {
      "cell_type": "code",
      "execution_count": null,
      "metadata": {
        "id": "--sSo20pCmMs",
        "colab": {
          "base_uri": "https://localhost:8080/"
        },
        "outputId": "bb8953f9-5b1a-46bf-9c86-2f26b91e8ba7"
      },
      "outputs": [
        {
          "output_type": "execute_result",
          "data": {
            "text/plain": [
              "pickup_dt        0\n",
              "borough          0\n",
              "pickups          0\n",
              "spd              0\n",
              "vsb              0\n",
              "temp           359\n",
              "dewp             0\n",
              "slp              0\n",
              "pcp01            0\n",
              "pcp06            0\n",
              "pcp24            0\n",
              "sd               0\n",
              "hday             0\n",
              "start_year       0\n",
              "start_month      0\n",
              "start_hour       0\n",
              "start_day        0\n",
              "week_day         0\n",
              "dtype: int64"
            ]
          },
          "metadata": {},
          "execution_count": 82
        }
      ],
      "source": [
        "df.isnull().sum()"
      ]
    },
    {
      "cell_type": "markdown",
      "metadata": {
        "id": "x2I-IoVVCmMt"
      },
      "source": [
        "The missing values in the `borough` column have been treated. Let us now move on to `temp` variable and see how to deal with the missing values present there."
      ]
    },
    {
      "cell_type": "code",
      "source": [
        "df.loc[df['temp'].isnull() == True]"
      ],
      "metadata": {
        "id": "Wj7JEX_EOAoe",
        "colab": {
          "base_uri": "https://localhost:8080/",
          "height": 641
        },
        "outputId": "1a74d3d9-9a7e-4c47-b9cf-8387a8af6f2a"
      },
      "execution_count": null,
      "outputs": [
        {
          "output_type": "execute_result",
          "data": {
            "text/plain": [
              "               pickup_dt   borough  pickups  spd   vsb  temp  dewp     slp  \\\n",
              "1    2015-01-01 01:00:00  Brooklyn     1519  5.0  10.0   NaN   7.0  1023.5   \n",
              "8    2015-01-01 02:00:00  Brooklyn     1229  3.0  10.0   NaN   6.0  1023.0   \n",
              "15   2015-01-01 03:00:00  Brooklyn     1601  5.0  10.0   NaN   8.0  1022.3   \n",
              "22   2015-01-01 04:00:00  Brooklyn     1390  5.0  10.0   NaN   9.0  1022.0   \n",
              "29   2015-01-01 05:00:00  Brooklyn      759  5.0  10.0   NaN   9.0  1021.8   \n",
              "...                  ...       ...      ...  ...   ...   ...   ...     ...   \n",
              "2334 2015-01-15 19:00:00  Brooklyn      594  5.0  10.0   NaN  13.0  1016.2   \n",
              "2340 2015-01-15 20:00:00  Brooklyn      620  5.0  10.0   NaN  13.0  1015.5   \n",
              "2347 2015-01-15 21:00:00  Brooklyn      607  3.0  10.0   NaN  14.0  1015.4   \n",
              "2354 2015-01-15 22:00:00  Brooklyn      648  9.0  10.0   NaN  14.0  1015.4   \n",
              "2361 2015-01-15 23:00:00  Brooklyn      602  5.0  10.0   NaN  16.0  1015.4   \n",
              "\n",
              "      pcp01  pcp06  pcp24   sd hday  start_year  start_month  start_hour  \\\n",
              "1       0.0    0.0    0.0  0.0    Y        2015            1           1   \n",
              "8       0.0    0.0    0.0  0.0    Y        2015            1           2   \n",
              "15      0.0    0.0    0.0  0.0    Y        2015            1           3   \n",
              "22      0.0    0.0    0.0  0.0    Y        2015            1           4   \n",
              "29      0.0    0.0    0.0  0.0    Y        2015            1           5   \n",
              "...     ...    ...    ...  ...  ...         ...          ...         ...   \n",
              "2334    0.0    0.0    0.0  0.0    N        2015            1          19   \n",
              "2340    0.0    0.0    0.0  0.0    N        2015            1          20   \n",
              "2347    0.0    0.0    0.0  0.0    N        2015            1          21   \n",
              "2354    0.0    0.0    0.0  0.0    N        2015            1          22   \n",
              "2361    0.0    0.0    0.0  0.0    N        2015            1          23   \n",
              "\n",
              "      start_day  week_day  \n",
              "1             1  Thursday  \n",
              "8             1  Thursday  \n",
              "15            1  Thursday  \n",
              "22            1  Thursday  \n",
              "29            1  Thursday  \n",
              "...         ...       ...  \n",
              "2334         15  Thursday  \n",
              "2340         15  Thursday  \n",
              "2347         15  Thursday  \n",
              "2354         15  Thursday  \n",
              "2361         15  Thursday  \n",
              "\n",
              "[359 rows x 18 columns]"
            ],
            "text/html": [
              "\n",
              "  <div id=\"df-a714efbc-a5ff-4ec9-8b16-dda7e838376c\">\n",
              "    <div class=\"colab-df-container\">\n",
              "      <div>\n",
              "<style scoped>\n",
              "    .dataframe tbody tr th:only-of-type {\n",
              "        vertical-align: middle;\n",
              "    }\n",
              "\n",
              "    .dataframe tbody tr th {\n",
              "        vertical-align: top;\n",
              "    }\n",
              "\n",
              "    .dataframe thead th {\n",
              "        text-align: right;\n",
              "    }\n",
              "</style>\n",
              "<table border=\"1\" class=\"dataframe\">\n",
              "  <thead>\n",
              "    <tr style=\"text-align: right;\">\n",
              "      <th></th>\n",
              "      <th>pickup_dt</th>\n",
              "      <th>borough</th>\n",
              "      <th>pickups</th>\n",
              "      <th>spd</th>\n",
              "      <th>vsb</th>\n",
              "      <th>temp</th>\n",
              "      <th>dewp</th>\n",
              "      <th>slp</th>\n",
              "      <th>pcp01</th>\n",
              "      <th>pcp06</th>\n",
              "      <th>pcp24</th>\n",
              "      <th>sd</th>\n",
              "      <th>hday</th>\n",
              "      <th>start_year</th>\n",
              "      <th>start_month</th>\n",
              "      <th>start_hour</th>\n",
              "      <th>start_day</th>\n",
              "      <th>week_day</th>\n",
              "    </tr>\n",
              "  </thead>\n",
              "  <tbody>\n",
              "    <tr>\n",
              "      <th>1</th>\n",
              "      <td>2015-01-01 01:00:00</td>\n",
              "      <td>Brooklyn</td>\n",
              "      <td>1519</td>\n",
              "      <td>5.0</td>\n",
              "      <td>10.0</td>\n",
              "      <td>NaN</td>\n",
              "      <td>7.0</td>\n",
              "      <td>1023.5</td>\n",
              "      <td>0.0</td>\n",
              "      <td>0.0</td>\n",
              "      <td>0.0</td>\n",
              "      <td>0.0</td>\n",
              "      <td>Y</td>\n",
              "      <td>2015</td>\n",
              "      <td>1</td>\n",
              "      <td>1</td>\n",
              "      <td>1</td>\n",
              "      <td>Thursday</td>\n",
              "    </tr>\n",
              "    <tr>\n",
              "      <th>8</th>\n",
              "      <td>2015-01-01 02:00:00</td>\n",
              "      <td>Brooklyn</td>\n",
              "      <td>1229</td>\n",
              "      <td>3.0</td>\n",
              "      <td>10.0</td>\n",
              "      <td>NaN</td>\n",
              "      <td>6.0</td>\n",
              "      <td>1023.0</td>\n",
              "      <td>0.0</td>\n",
              "      <td>0.0</td>\n",
              "      <td>0.0</td>\n",
              "      <td>0.0</td>\n",
              "      <td>Y</td>\n",
              "      <td>2015</td>\n",
              "      <td>1</td>\n",
              "      <td>2</td>\n",
              "      <td>1</td>\n",
              "      <td>Thursday</td>\n",
              "    </tr>\n",
              "    <tr>\n",
              "      <th>15</th>\n",
              "      <td>2015-01-01 03:00:00</td>\n",
              "      <td>Brooklyn</td>\n",
              "      <td>1601</td>\n",
              "      <td>5.0</td>\n",
              "      <td>10.0</td>\n",
              "      <td>NaN</td>\n",
              "      <td>8.0</td>\n",
              "      <td>1022.3</td>\n",
              "      <td>0.0</td>\n",
              "      <td>0.0</td>\n",
              "      <td>0.0</td>\n",
              "      <td>0.0</td>\n",
              "      <td>Y</td>\n",
              "      <td>2015</td>\n",
              "      <td>1</td>\n",
              "      <td>3</td>\n",
              "      <td>1</td>\n",
              "      <td>Thursday</td>\n",
              "    </tr>\n",
              "    <tr>\n",
              "      <th>22</th>\n",
              "      <td>2015-01-01 04:00:00</td>\n",
              "      <td>Brooklyn</td>\n",
              "      <td>1390</td>\n",
              "      <td>5.0</td>\n",
              "      <td>10.0</td>\n",
              "      <td>NaN</td>\n",
              "      <td>9.0</td>\n",
              "      <td>1022.0</td>\n",
              "      <td>0.0</td>\n",
              "      <td>0.0</td>\n",
              "      <td>0.0</td>\n",
              "      <td>0.0</td>\n",
              "      <td>Y</td>\n",
              "      <td>2015</td>\n",
              "      <td>1</td>\n",
              "      <td>4</td>\n",
              "      <td>1</td>\n",
              "      <td>Thursday</td>\n",
              "    </tr>\n",
              "    <tr>\n",
              "      <th>29</th>\n",
              "      <td>2015-01-01 05:00:00</td>\n",
              "      <td>Brooklyn</td>\n",
              "      <td>759</td>\n",
              "      <td>5.0</td>\n",
              "      <td>10.0</td>\n",
              "      <td>NaN</td>\n",
              "      <td>9.0</td>\n",
              "      <td>1021.8</td>\n",
              "      <td>0.0</td>\n",
              "      <td>0.0</td>\n",
              "      <td>0.0</td>\n",
              "      <td>0.0</td>\n",
              "      <td>Y</td>\n",
              "      <td>2015</td>\n",
              "      <td>1</td>\n",
              "      <td>5</td>\n",
              "      <td>1</td>\n",
              "      <td>Thursday</td>\n",
              "    </tr>\n",
              "    <tr>\n",
              "      <th>...</th>\n",
              "      <td>...</td>\n",
              "      <td>...</td>\n",
              "      <td>...</td>\n",
              "      <td>...</td>\n",
              "      <td>...</td>\n",
              "      <td>...</td>\n",
              "      <td>...</td>\n",
              "      <td>...</td>\n",
              "      <td>...</td>\n",
              "      <td>...</td>\n",
              "      <td>...</td>\n",
              "      <td>...</td>\n",
              "      <td>...</td>\n",
              "      <td>...</td>\n",
              "      <td>...</td>\n",
              "      <td>...</td>\n",
              "      <td>...</td>\n",
              "      <td>...</td>\n",
              "    </tr>\n",
              "    <tr>\n",
              "      <th>2334</th>\n",
              "      <td>2015-01-15 19:00:00</td>\n",
              "      <td>Brooklyn</td>\n",
              "      <td>594</td>\n",
              "      <td>5.0</td>\n",
              "      <td>10.0</td>\n",
              "      <td>NaN</td>\n",
              "      <td>13.0</td>\n",
              "      <td>1016.2</td>\n",
              "      <td>0.0</td>\n",
              "      <td>0.0</td>\n",
              "      <td>0.0</td>\n",
              "      <td>0.0</td>\n",
              "      <td>N</td>\n",
              "      <td>2015</td>\n",
              "      <td>1</td>\n",
              "      <td>19</td>\n",
              "      <td>15</td>\n",
              "      <td>Thursday</td>\n",
              "    </tr>\n",
              "    <tr>\n",
              "      <th>2340</th>\n",
              "      <td>2015-01-15 20:00:00</td>\n",
              "      <td>Brooklyn</td>\n",
              "      <td>620</td>\n",
              "      <td>5.0</td>\n",
              "      <td>10.0</td>\n",
              "      <td>NaN</td>\n",
              "      <td>13.0</td>\n",
              "      <td>1015.5</td>\n",
              "      <td>0.0</td>\n",
              "      <td>0.0</td>\n",
              "      <td>0.0</td>\n",
              "      <td>0.0</td>\n",
              "      <td>N</td>\n",
              "      <td>2015</td>\n",
              "      <td>1</td>\n",
              "      <td>20</td>\n",
              "      <td>15</td>\n",
              "      <td>Thursday</td>\n",
              "    </tr>\n",
              "    <tr>\n",
              "      <th>2347</th>\n",
              "      <td>2015-01-15 21:00:00</td>\n",
              "      <td>Brooklyn</td>\n",
              "      <td>607</td>\n",
              "      <td>3.0</td>\n",
              "      <td>10.0</td>\n",
              "      <td>NaN</td>\n",
              "      <td>14.0</td>\n",
              "      <td>1015.4</td>\n",
              "      <td>0.0</td>\n",
              "      <td>0.0</td>\n",
              "      <td>0.0</td>\n",
              "      <td>0.0</td>\n",
              "      <td>N</td>\n",
              "      <td>2015</td>\n",
              "      <td>1</td>\n",
              "      <td>21</td>\n",
              "      <td>15</td>\n",
              "      <td>Thursday</td>\n",
              "    </tr>\n",
              "    <tr>\n",
              "      <th>2354</th>\n",
              "      <td>2015-01-15 22:00:00</td>\n",
              "      <td>Brooklyn</td>\n",
              "      <td>648</td>\n",
              "      <td>9.0</td>\n",
              "      <td>10.0</td>\n",
              "      <td>NaN</td>\n",
              "      <td>14.0</td>\n",
              "      <td>1015.4</td>\n",
              "      <td>0.0</td>\n",
              "      <td>0.0</td>\n",
              "      <td>0.0</td>\n",
              "      <td>0.0</td>\n",
              "      <td>N</td>\n",
              "      <td>2015</td>\n",
              "      <td>1</td>\n",
              "      <td>22</td>\n",
              "      <td>15</td>\n",
              "      <td>Thursday</td>\n",
              "    </tr>\n",
              "    <tr>\n",
              "      <th>2361</th>\n",
              "      <td>2015-01-15 23:00:00</td>\n",
              "      <td>Brooklyn</td>\n",
              "      <td>602</td>\n",
              "      <td>5.0</td>\n",
              "      <td>10.0</td>\n",
              "      <td>NaN</td>\n",
              "      <td>16.0</td>\n",
              "      <td>1015.4</td>\n",
              "      <td>0.0</td>\n",
              "      <td>0.0</td>\n",
              "      <td>0.0</td>\n",
              "      <td>0.0</td>\n",
              "      <td>N</td>\n",
              "      <td>2015</td>\n",
              "      <td>1</td>\n",
              "      <td>23</td>\n",
              "      <td>15</td>\n",
              "      <td>Thursday</td>\n",
              "    </tr>\n",
              "  </tbody>\n",
              "</table>\n",
              "<p>359 rows × 18 columns</p>\n",
              "</div>\n",
              "      <button class=\"colab-df-convert\" onclick=\"convertToInteractive('df-a714efbc-a5ff-4ec9-8b16-dda7e838376c')\"\n",
              "              title=\"Convert this dataframe to an interactive table.\"\n",
              "              style=\"display:none;\">\n",
              "        \n",
              "  <svg xmlns=\"http://www.w3.org/2000/svg\" height=\"24px\"viewBox=\"0 0 24 24\"\n",
              "       width=\"24px\">\n",
              "    <path d=\"M0 0h24v24H0V0z\" fill=\"none\"/>\n",
              "    <path d=\"M18.56 5.44l.94 2.06.94-2.06 2.06-.94-2.06-.94-.94-2.06-.94 2.06-2.06.94zm-11 1L8.5 8.5l.94-2.06 2.06-.94-2.06-.94L8.5 2.5l-.94 2.06-2.06.94zm10 10l.94 2.06.94-2.06 2.06-.94-2.06-.94-.94-2.06-.94 2.06-2.06.94z\"/><path d=\"M17.41 7.96l-1.37-1.37c-.4-.4-.92-.59-1.43-.59-.52 0-1.04.2-1.43.59L10.3 9.45l-7.72 7.72c-.78.78-.78 2.05 0 2.83L4 21.41c.39.39.9.59 1.41.59.51 0 1.02-.2 1.41-.59l7.78-7.78 2.81-2.81c.8-.78.8-2.07 0-2.86zM5.41 20L4 18.59l7.72-7.72 1.47 1.35L5.41 20z\"/>\n",
              "  </svg>\n",
              "      </button>\n",
              "      \n",
              "  <style>\n",
              "    .colab-df-container {\n",
              "      display:flex;\n",
              "      flex-wrap:wrap;\n",
              "      gap: 12px;\n",
              "    }\n",
              "\n",
              "    .colab-df-convert {\n",
              "      background-color: #E8F0FE;\n",
              "      border: none;\n",
              "      border-radius: 50%;\n",
              "      cursor: pointer;\n",
              "      display: none;\n",
              "      fill: #1967D2;\n",
              "      height: 32px;\n",
              "      padding: 0 0 0 0;\n",
              "      width: 32px;\n",
              "    }\n",
              "\n",
              "    .colab-df-convert:hover {\n",
              "      background-color: #E2EBFA;\n",
              "      box-shadow: 0px 1px 2px rgba(60, 64, 67, 0.3), 0px 1px 3px 1px rgba(60, 64, 67, 0.15);\n",
              "      fill: #174EA6;\n",
              "    }\n",
              "\n",
              "    [theme=dark] .colab-df-convert {\n",
              "      background-color: #3B4455;\n",
              "      fill: #D2E3FC;\n",
              "    }\n",
              "\n",
              "    [theme=dark] .colab-df-convert:hover {\n",
              "      background-color: #434B5C;\n",
              "      box-shadow: 0px 1px 3px 1px rgba(0, 0, 0, 0.15);\n",
              "      filter: drop-shadow(0px 1px 2px rgba(0, 0, 0, 0.3));\n",
              "      fill: #FFFFFF;\n",
              "    }\n",
              "  </style>\n",
              "\n",
              "      <script>\n",
              "        const buttonEl =\n",
              "          document.querySelector('#df-a714efbc-a5ff-4ec9-8b16-dda7e838376c button.colab-df-convert');\n",
              "        buttonEl.style.display =\n",
              "          google.colab.kernel.accessAllowed ? 'block' : 'none';\n",
              "\n",
              "        async function convertToInteractive(key) {\n",
              "          const element = document.querySelector('#df-a714efbc-a5ff-4ec9-8b16-dda7e838376c');\n",
              "          const dataTable =\n",
              "            await google.colab.kernel.invokeFunction('convertToInteractive',\n",
              "                                                     [key], {});\n",
              "          if (!dataTable) return;\n",
              "\n",
              "          const docLinkHtml = 'Like what you see? Visit the ' +\n",
              "            '<a target=\"_blank\" href=https://colab.research.google.com/notebooks/data_table.ipynb>data table notebook</a>'\n",
              "            + ' to learn more about interactive tables.';\n",
              "          element.innerHTML = '';\n",
              "          dataTable['output_type'] = 'display_data';\n",
              "          await google.colab.output.renderOutput(dataTable, element);\n",
              "          const docLink = document.createElement('div');\n",
              "          docLink.innerHTML = docLinkHtml;\n",
              "          element.appendChild(docLink);\n",
              "        }\n",
              "      </script>\n",
              "    </div>\n",
              "  </div>\n",
              "  "
            ]
          },
          "metadata": {},
          "execution_count": 83
        }
      ]
    },
    {
      "cell_type": "code",
      "source": [
        "df.loc[df['temp'].isnull()==True,'borough'].value_counts()"
      ],
      "metadata": {
        "id": "2VrtByvmOtUk",
        "colab": {
          "base_uri": "https://localhost:8080/"
        },
        "outputId": "ab496d8b-7b9a-44ff-8efc-7117bf4731a3"
      },
      "execution_count": null,
      "outputs": [
        {
          "output_type": "execute_result",
          "data": {
            "text/plain": [
              "Brooklyn    359\n",
              "Name: borough, dtype: int64"
            ]
          },
          "metadata": {},
          "execution_count": 84
        }
      ]
    },
    {
      "cell_type": "code",
      "source": [
        "df.loc[df['temp'].isnull()==True,'start_month'].value_counts()"
      ],
      "metadata": {
        "id": "AwLAXq11OvNS",
        "colab": {
          "base_uri": "https://localhost:8080/"
        },
        "outputId": "186f4aec-1493-4dac-e750-4cc2fcac7891"
      },
      "execution_count": null,
      "outputs": [
        {
          "output_type": "execute_result",
          "data": {
            "text/plain": [
              "1    359\n",
              "Name: start_month, dtype: int64"
            ]
          },
          "metadata": {},
          "execution_count": 85
        }
      ]
    },
    {
      "cell_type": "code",
      "source": [
        "# Fixing Temp\n",
        "df['temp'] = df['temp'].fillna(value = df.loc[ (df['start_month'] == 'January'),'temp'].mean())"
      ],
      "metadata": {
        "id": "7VQJHPTFOrSX"
      },
      "execution_count": null,
      "outputs": []
    },
    {
      "cell_type": "code",
      "execution_count": null,
      "metadata": {
        "id": "2m8IEoKFGVoV",
        "colab": {
          "base_uri": "https://localhost:8080/"
        },
        "outputId": "43bc14d9-78ff-49c9-932e-ca8c1cb3fedc"
      },
      "outputs": [
        {
          "output_type": "execute_result",
          "data": {
            "text/plain": [
              "pickup_dt      0\n",
              "borough        0\n",
              "pickups        0\n",
              "spd            0\n",
              "vsb            0\n",
              "temp           0\n",
              "dewp           0\n",
              "slp            0\n",
              "pcp01          0\n",
              "pcp06          0\n",
              "pcp24          0\n",
              "sd             0\n",
              "hday           0\n",
              "start_year     0\n",
              "start_month    0\n",
              "start_hour     0\n",
              "start_day      0\n",
              "week_day       0\n",
              "dtype: int64"
            ]
          },
          "metadata": {},
          "execution_count": 87
        }
      ],
      "source": [
        "# Checking the sum of null values across columns\n",
        "df.isnull().sum()"
      ]
    },
    {
      "cell_type": "markdown",
      "source": [
        "### After doing so much hard work, we are now ready to do some exploratory analysis on the dataset. This is pretty common, where we need to spend some time cleaning and processing the data to make it useful for analysis. Else we will just get garbage insights 😬"
      ],
      "metadata": {
        "id": "2A1Q1rBUo2eJ"
      }
    },
    {
      "cell_type": "markdown",
      "metadata": {
        "id": "sZ4YtvWeCmMu"
      },
      "source": [
        "## <u>**Exploratory Data Analysis**</u>"
      ]
    },
    {
      "cell_type": "markdown",
      "metadata": {
        "id": "1v3duQ20G_PG"
      },
      "source": [
        "### **Univariate Analysis**"
      ]
    },
    {
      "cell_type": "code",
      "source": [
        "df.head()"
      ],
      "metadata": {
        "id": "zz9jPNsW-iZL",
        "colab": {
          "base_uri": "https://localhost:8080/",
          "height": 357
        },
        "outputId": "7e651bdf-eaa0-4eeb-9d1d-05a9b4e2f373"
      },
      "execution_count": null,
      "outputs": [
        {
          "output_type": "execute_result",
          "data": {
            "text/plain": [
              "            pickup_dt    borough  pickups  spd   vsb       temp  dewp     slp  \\\n",
              "0 2015-01-01 01:00:00      Bronx      152  5.0  10.0  30.000000   7.0  1023.5   \n",
              "1 2015-01-01 01:00:00   Brooklyn     1519  5.0  10.0  47.900019   7.0  1023.5   \n",
              "2 2015-01-01 01:00:00        EWR        0  5.0  10.0  30.000000   7.0  1023.5   \n",
              "3 2015-01-01 01:00:00  Manhattan     5258  5.0  10.0  30.000000   7.0  1023.5   \n",
              "4 2015-01-01 01:00:00     Queens      405  5.0  10.0  30.000000   7.0  1023.5   \n",
              "\n",
              "   pcp01  pcp06  pcp24   sd hday  start_year  start_month  start_hour  \\\n",
              "0    0.0    0.0    0.0  0.0    Y        2015            1           1   \n",
              "1    0.0    0.0    0.0  0.0    Y        2015            1           1   \n",
              "2    0.0    0.0    0.0  0.0    Y        2015            1           1   \n",
              "3    0.0    0.0    0.0  0.0    Y        2015            1           1   \n",
              "4    0.0    0.0    0.0  0.0    Y        2015            1           1   \n",
              "\n",
              "   start_day  week_day  \n",
              "0          1  Thursday  \n",
              "1          1  Thursday  \n",
              "2          1  Thursday  \n",
              "3          1  Thursday  \n",
              "4          1  Thursday  "
            ],
            "text/html": [
              "\n",
              "  <div id=\"df-8403d5b9-8193-47ce-a2ca-e13da9722086\">\n",
              "    <div class=\"colab-df-container\">\n",
              "      <div>\n",
              "<style scoped>\n",
              "    .dataframe tbody tr th:only-of-type {\n",
              "        vertical-align: middle;\n",
              "    }\n",
              "\n",
              "    .dataframe tbody tr th {\n",
              "        vertical-align: top;\n",
              "    }\n",
              "\n",
              "    .dataframe thead th {\n",
              "        text-align: right;\n",
              "    }\n",
              "</style>\n",
              "<table border=\"1\" class=\"dataframe\">\n",
              "  <thead>\n",
              "    <tr style=\"text-align: right;\">\n",
              "      <th></th>\n",
              "      <th>pickup_dt</th>\n",
              "      <th>borough</th>\n",
              "      <th>pickups</th>\n",
              "      <th>spd</th>\n",
              "      <th>vsb</th>\n",
              "      <th>temp</th>\n",
              "      <th>dewp</th>\n",
              "      <th>slp</th>\n",
              "      <th>pcp01</th>\n",
              "      <th>pcp06</th>\n",
              "      <th>pcp24</th>\n",
              "      <th>sd</th>\n",
              "      <th>hday</th>\n",
              "      <th>start_year</th>\n",
              "      <th>start_month</th>\n",
              "      <th>start_hour</th>\n",
              "      <th>start_day</th>\n",
              "      <th>week_day</th>\n",
              "    </tr>\n",
              "  </thead>\n",
              "  <tbody>\n",
              "    <tr>\n",
              "      <th>0</th>\n",
              "      <td>2015-01-01 01:00:00</td>\n",
              "      <td>Bronx</td>\n",
              "      <td>152</td>\n",
              "      <td>5.0</td>\n",
              "      <td>10.0</td>\n",
              "      <td>30.000000</td>\n",
              "      <td>7.0</td>\n",
              "      <td>1023.5</td>\n",
              "      <td>0.0</td>\n",
              "      <td>0.0</td>\n",
              "      <td>0.0</td>\n",
              "      <td>0.0</td>\n",
              "      <td>Y</td>\n",
              "      <td>2015</td>\n",
              "      <td>1</td>\n",
              "      <td>1</td>\n",
              "      <td>1</td>\n",
              "      <td>Thursday</td>\n",
              "    </tr>\n",
              "    <tr>\n",
              "      <th>1</th>\n",
              "      <td>2015-01-01 01:00:00</td>\n",
              "      <td>Brooklyn</td>\n",
              "      <td>1519</td>\n",
              "      <td>5.0</td>\n",
              "      <td>10.0</td>\n",
              "      <td>47.900019</td>\n",
              "      <td>7.0</td>\n",
              "      <td>1023.5</td>\n",
              "      <td>0.0</td>\n",
              "      <td>0.0</td>\n",
              "      <td>0.0</td>\n",
              "      <td>0.0</td>\n",
              "      <td>Y</td>\n",
              "      <td>2015</td>\n",
              "      <td>1</td>\n",
              "      <td>1</td>\n",
              "      <td>1</td>\n",
              "      <td>Thursday</td>\n",
              "    </tr>\n",
              "    <tr>\n",
              "      <th>2</th>\n",
              "      <td>2015-01-01 01:00:00</td>\n",
              "      <td>EWR</td>\n",
              "      <td>0</td>\n",
              "      <td>5.0</td>\n",
              "      <td>10.0</td>\n",
              "      <td>30.000000</td>\n",
              "      <td>7.0</td>\n",
              "      <td>1023.5</td>\n",
              "      <td>0.0</td>\n",
              "      <td>0.0</td>\n",
              "      <td>0.0</td>\n",
              "      <td>0.0</td>\n",
              "      <td>Y</td>\n",
              "      <td>2015</td>\n",
              "      <td>1</td>\n",
              "      <td>1</td>\n",
              "      <td>1</td>\n",
              "      <td>Thursday</td>\n",
              "    </tr>\n",
              "    <tr>\n",
              "      <th>3</th>\n",
              "      <td>2015-01-01 01:00:00</td>\n",
              "      <td>Manhattan</td>\n",
              "      <td>5258</td>\n",
              "      <td>5.0</td>\n",
              "      <td>10.0</td>\n",
              "      <td>30.000000</td>\n",
              "      <td>7.0</td>\n",
              "      <td>1023.5</td>\n",
              "      <td>0.0</td>\n",
              "      <td>0.0</td>\n",
              "      <td>0.0</td>\n",
              "      <td>0.0</td>\n",
              "      <td>Y</td>\n",
              "      <td>2015</td>\n",
              "      <td>1</td>\n",
              "      <td>1</td>\n",
              "      <td>1</td>\n",
              "      <td>Thursday</td>\n",
              "    </tr>\n",
              "    <tr>\n",
              "      <th>4</th>\n",
              "      <td>2015-01-01 01:00:00</td>\n",
              "      <td>Queens</td>\n",
              "      <td>405</td>\n",
              "      <td>5.0</td>\n",
              "      <td>10.0</td>\n",
              "      <td>30.000000</td>\n",
              "      <td>7.0</td>\n",
              "      <td>1023.5</td>\n",
              "      <td>0.0</td>\n",
              "      <td>0.0</td>\n",
              "      <td>0.0</td>\n",
              "      <td>0.0</td>\n",
              "      <td>Y</td>\n",
              "      <td>2015</td>\n",
              "      <td>1</td>\n",
              "      <td>1</td>\n",
              "      <td>1</td>\n",
              "      <td>Thursday</td>\n",
              "    </tr>\n",
              "  </tbody>\n",
              "</table>\n",
              "</div>\n",
              "      <button class=\"colab-df-convert\" onclick=\"convertToInteractive('df-8403d5b9-8193-47ce-a2ca-e13da9722086')\"\n",
              "              title=\"Convert this dataframe to an interactive table.\"\n",
              "              style=\"display:none;\">\n",
              "        \n",
              "  <svg xmlns=\"http://www.w3.org/2000/svg\" height=\"24px\"viewBox=\"0 0 24 24\"\n",
              "       width=\"24px\">\n",
              "    <path d=\"M0 0h24v24H0V0z\" fill=\"none\"/>\n",
              "    <path d=\"M18.56 5.44l.94 2.06.94-2.06 2.06-.94-2.06-.94-.94-2.06-.94 2.06-2.06.94zm-11 1L8.5 8.5l.94-2.06 2.06-.94-2.06-.94L8.5 2.5l-.94 2.06-2.06.94zm10 10l.94 2.06.94-2.06 2.06-.94-2.06-.94-.94-2.06-.94 2.06-2.06.94z\"/><path d=\"M17.41 7.96l-1.37-1.37c-.4-.4-.92-.59-1.43-.59-.52 0-1.04.2-1.43.59L10.3 9.45l-7.72 7.72c-.78.78-.78 2.05 0 2.83L4 21.41c.39.39.9.59 1.41.59.51 0 1.02-.2 1.41-.59l7.78-7.78 2.81-2.81c.8-.78.8-2.07 0-2.86zM5.41 20L4 18.59l7.72-7.72 1.47 1.35L5.41 20z\"/>\n",
              "  </svg>\n",
              "      </button>\n",
              "      \n",
              "  <style>\n",
              "    .colab-df-container {\n",
              "      display:flex;\n",
              "      flex-wrap:wrap;\n",
              "      gap: 12px;\n",
              "    }\n",
              "\n",
              "    .colab-df-convert {\n",
              "      background-color: #E8F0FE;\n",
              "      border: none;\n",
              "      border-radius: 50%;\n",
              "      cursor: pointer;\n",
              "      display: none;\n",
              "      fill: #1967D2;\n",
              "      height: 32px;\n",
              "      padding: 0 0 0 0;\n",
              "      width: 32px;\n",
              "    }\n",
              "\n",
              "    .colab-df-convert:hover {\n",
              "      background-color: #E2EBFA;\n",
              "      box-shadow: 0px 1px 2px rgba(60, 64, 67, 0.3), 0px 1px 3px 1px rgba(60, 64, 67, 0.15);\n",
              "      fill: #174EA6;\n",
              "    }\n",
              "\n",
              "    [theme=dark] .colab-df-convert {\n",
              "      background-color: #3B4455;\n",
              "      fill: #D2E3FC;\n",
              "    }\n",
              "\n",
              "    [theme=dark] .colab-df-convert:hover {\n",
              "      background-color: #434B5C;\n",
              "      box-shadow: 0px 1px 3px 1px rgba(0, 0, 0, 0.15);\n",
              "      filter: drop-shadow(0px 1px 2px rgba(0, 0, 0, 0.3));\n",
              "      fill: #FFFFFF;\n",
              "    }\n",
              "  </style>\n",
              "\n",
              "      <script>\n",
              "        const buttonEl =\n",
              "          document.querySelector('#df-8403d5b9-8193-47ce-a2ca-e13da9722086 button.colab-df-convert');\n",
              "        buttonEl.style.display =\n",
              "          google.colab.kernel.accessAllowed ? 'block' : 'none';\n",
              "\n",
              "        async function convertToInteractive(key) {\n",
              "          const element = document.querySelector('#df-8403d5b9-8193-47ce-a2ca-e13da9722086');\n",
              "          const dataTable =\n",
              "            await google.colab.kernel.invokeFunction('convertToInteractive',\n",
              "                                                     [key], {});\n",
              "          if (!dataTable) return;\n",
              "\n",
              "          const docLinkHtml = 'Like what you see? Visit the ' +\n",
              "            '<a target=\"_blank\" href=https://colab.research.google.com/notebooks/data_table.ipynb>data table notebook</a>'\n",
              "            + ' to learn more about interactive tables.';\n",
              "          element.innerHTML = '';\n",
              "          dataTable['output_type'] = 'display_data';\n",
              "          await google.colab.output.renderOutput(dataTable, element);\n",
              "          const docLink = document.createElement('div');\n",
              "          docLink.innerHTML = docLinkHtml;\n",
              "          element.appendChild(docLink);\n",
              "        }\n",
              "      </script>\n",
              "    </div>\n",
              "  </div>\n",
              "  "
            ]
          },
          "metadata": {},
          "execution_count": 88
        }
      ]
    },
    {
      "cell_type": "code",
      "source": [
        "# Setting the size of the plots inline\n",
        "sns.set(rc = {'figure.figsize': (11.7,6.27) })"
      ],
      "metadata": {
        "id": "okCAEhf99jG1"
      },
      "execution_count": null,
      "outputs": []
    },
    {
      "cell_type": "code",
      "execution_count": null,
      "metadata": {
        "id": "VO1I-bvmCmMx",
        "colab": {
          "base_uri": "https://localhost:8080/",
          "height": 408
        },
        "outputId": "8278e44c-ae45-4616-cdc0-e03e10c8576e"
      },
      "outputs": [
        {
          "output_type": "display_data",
          "data": {
            "text/plain": [
              "<Figure size 842.4x451.44 with 1 Axes>"
            ],
            "image/png": "[encoded data removed]"
          },
          "metadata": {}
        }
      ],
      "source": [
        "# Getting the pickup distribution\n",
        "sns.histplot(data = df, x = 'pickups')\n",
        "plt.show()"
      ]
    },
    {
      "cell_type": "code",
      "source": [
        "# Getting the box plot distribution of pickups\n",
        "sns.boxplot(data=df,x='pickups')\n",
        "plt.show()"
      ],
      "metadata": {
        "id": "G4_Idjc19n8a",
        "colab": {
          "base_uri": "https://localhost:8080/",
          "height": 408
        },
        "outputId": "a8da65a6-449c-4571-b8e7-12cd80b2653a"
      },
      "execution_count": null,
      "outputs": [
        {
          "output_type": "display_data",
          "data": {
            "text/plain": [
              "<Figure size 842.4x451.44 with 1 Axes>"
            ],
            "image/png": "[encoded data removed]"
          },
          "metadata": {}
        }
      ]
    },
    {
      "cell_type": "markdown",
      "metadata": {
        "id": "e2kTj-A8CmNR"
      },
      "source": [
        "## Observation\n",
        "\n",
        "1.   Outliers present\n",
        "2.   Skewed\n",
        "3.   BiModal distribution\n",
        "\n"
      ]
    },
    {
      "cell_type": "markdown",
      "metadata": {
        "id": "sd8hv8JDCmM0"
      },
      "source": [
        "####  **Observations on Visibility**"
      ]
    },
    {
      "cell_type": "code",
      "execution_count": null,
      "metadata": {
        "id": "OHBGv-xCCmM0",
        "colab": {
          "base_uri": "https://localhost:8080/",
          "height": 408
        },
        "outputId": "c4c09e1c-3ff8-457d-df7b-a6391cbce658"
      },
      "outputs": [
        {
          "output_type": "display_data",
          "data": {
            "text/plain": [
              "<Figure size 842.4x451.44 with 1 Axes>"
            ],
            "image/png": "[encoded data removed]"
          },
          "metadata": {}
        }
      ],
      "source": [
        "# Getting the visibility distribution\n",
        "sns.histplot(data=df, x = 'vsb')\n",
        "plt.show()"
      ]
    },
    {
      "cell_type": "code",
      "source": [
        "# Getting the box plot distribution for visibility in miles\n",
        "sns.boxplot(data=df, x = 'vsb')\n",
        "plt.show()"
      ],
      "metadata": {
        "id": "0DCpqAt_-QIV",
        "colab": {
          "base_uri": "https://localhost:8080/",
          "height": 408
        },
        "outputId": "00c0eec3-7b84-45bf-c5b0-d0459c1b1373"
      },
      "execution_count": null,
      "outputs": [
        {
          "output_type": "display_data",
          "data": {
            "text/plain": [
              "<Figure size 842.4x451.44 with 1 Axes>"
            ],
            "image/png": "[encoded data removed]"
          },
          "metadata": {}
        }
      ]
    },
    {
      "cell_type": "markdown",
      "metadata": {
        "id": "UnLx3-PfCmM2"
      },
      "source": [
        "### **Observations on Temperature**"
      ]
    },
    {
      "cell_type": "code",
      "execution_count": null,
      "metadata": {
        "id": "Aw8IBdqSCmM3",
        "colab": {
          "base_uri": "https://localhost:8080/",
          "height": 799
        },
        "outputId": "d400ff04-472f-4fe0-ddc9-b58cb5ebc984"
      },
      "outputs": [
        {
          "output_type": "display_data",
          "data": {
            "text/plain": [
              "<Figure size 842.4x451.44 with 1 Axes>"
            ],
            "image/png": "[encoded data removed]"
          },
          "metadata": {}
        },
        {
          "output_type": "display_data",
          "data": {
            "text/plain": [
              "<Figure size 842.4x451.44 with 1 Axes>"
            ],
            "image/png": "[encoded data removed]"
          },
          "metadata": {}
        }
      ],
      "source": [
        "sns.histplot(data=df, x = 'temp')\n",
        "plt.show()\n",
        "sns.boxplot(data=df,x = 'temp')\n",
        "plt.show()"
      ]
    },
    {
      "cell_type": "markdown",
      "metadata": {
        "id": "4j6Be5DuCmM5"
      },
      "source": [
        "#### **Observations on Dew point**"
      ]
    },
    {
      "cell_type": "code",
      "execution_count": null,
      "metadata": {
        "id": "XQ_jLcXzCmM6",
        "colab": {
          "base_uri": "https://localhost:8080/",
          "height": 799
        },
        "outputId": "251d1f94-f504-40dc-e30b-fea74cf03da5"
      },
      "outputs": [
        {
          "output_type": "display_data",
          "data": {
            "text/plain": [
              "<Figure size 842.4x451.44 with 1 Axes>"
            ],
            "image/png": "[encoded data removed]"
          },
          "metadata": {}
        },
        {
          "output_type": "display_data",
          "data": {
            "text/plain": [
              "<Figure size 842.4x451.44 with 1 Axes>"
            ],
            "image/png": "[encoded data removed]"
          },
          "metadata": {}
        }
      ],
      "source": [
        "sns.histplot(data=df,x='dewp')\n",
        "plt.show()\n",
        "sns.boxplot(data=df,x='dewp')\n",
        "plt.show()"
      ]
    },
    {
      "cell_type": "markdown",
      "metadata": {
        "id": "Rl6uU-UWCmM8"
      },
      "source": [
        "#### **Observations on Sea level pressure**"
      ]
    },
    {
      "cell_type": "code",
      "execution_count": null,
      "metadata": {
        "id": "5vP2afNGCmM8",
        "colab": {
          "base_uri": "https://localhost:8080/",
          "height": 799
        },
        "outputId": "aa3a7cdd-e927-4236-e5a0-dab2fb59f6e1"
      },
      "outputs": [
        {
          "output_type": "display_data",
          "data": {
            "text/plain": [
              "<Figure size 842.4x451.44 with 1 Axes>"
            ],
            "image/png": "[encoded data removed]"
          },
          "metadata": {}
        },
        {
          "output_type": "display_data",
          "data": {
            "text/plain": [
              "<Figure size 842.4x451.44 with 1 Axes>"
            ],
            "image/png": "[encoded data removed]"
          },
          "metadata": {}
        }
      ],
      "source": [
        "sns.histplot(data=df,x='slp')\n",
        "plt.show()\n",
        "sns.boxplot(data=df,x='slp')\n",
        "plt.show()"
      ]
    },
    {
      "cell_type": "markdown",
      "metadata": {
        "id": "w-YtW4DJCmM_"
      },
      "source": [
        "###  **Observations on Liquid Precipitation (Rain)**"
      ]
    },
    {
      "cell_type": "markdown",
      "metadata": {
        "id": "STf8kh15CmM_"
      },
      "source": [
        "#### **1 hour liquid precipitation**"
      ]
    },
    {
      "cell_type": "code",
      "execution_count": null,
      "metadata": {
        "id": "Nd4yBMjjCmNA",
        "colab": {
          "base_uri": "https://localhost:8080/",
          "height": 799
        },
        "outputId": "96a6f235-71b1-43ec-ba55-76ea4a09b5c0"
      },
      "outputs": [
        {
          "output_type": "display_data",
          "data": {
            "text/plain": [
              "<Figure size 842.4x451.44 with 1 Axes>"
            ],
            "image/png": "[encoded data removed]"
          },
          "metadata": {}
        },
        {
          "output_type": "display_data",
          "data": {
            "text/plain": [
              "<Figure size 842.4x451.44 with 1 Axes>"
            ],
            "image/png": "[encoded data removed]"
          },
          "metadata": {}
        }
      ],
      "source": [
        "sns.histplot(data=df,x='pcp01')\n",
        "plt.show()\n",
        "sns.boxplot(data=df,x='pcp01')\n",
        "plt.show()"
      ]
    },
    {
      "cell_type": "markdown",
      "metadata": {
        "id": "UzaDZD0zCmNB"
      },
      "source": [
        "#### **6 hour liquid precipitation**"
      ]
    },
    {
      "cell_type": "code",
      "execution_count": null,
      "metadata": {
        "id": "4R71CEJdCmNC",
        "colab": {
          "base_uri": "https://localhost:8080/",
          "height": 799
        },
        "outputId": "45254f6a-20e3-4aec-8be1-f03c5a01b164"
      },
      "outputs": [
        {
          "output_type": "display_data",
          "data": {
            "text/plain": [
              "<Figure size 842.4x451.44 with 1 Axes>"
            ],
            "image/png": "[encoded data removed]"
          },
          "metadata": {}
        },
        {
          "output_type": "display_data",
          "data": {
            "text/plain": [
              "<Figure size 842.4x451.44 with 1 Axes>"
            ],
            "image/png": "[encoded data removed]"
          },
          "metadata": {}
        }
      ],
      "source": [
        "sns.histplot(data=df,x='pcp06')\n",
        "plt.show()\n",
        "sns.boxplot(data=df,x='pcp06')\n",
        "plt.show()"
      ]
    },
    {
      "cell_type": "markdown",
      "metadata": {
        "id": "q0X5znMMCmNE"
      },
      "source": [
        "#### **24 hour liquid precipitation**"
      ]
    },
    {
      "cell_type": "code",
      "execution_count": null,
      "metadata": {
        "id": "mHACRN4SCmNE",
        "colab": {
          "base_uri": "https://localhost:8080/",
          "height": 799
        },
        "outputId": "dc67ace5-f67b-489c-f2ed-01730c728194"
      },
      "outputs": [
        {
          "output_type": "display_data",
          "data": {
            "text/plain": [
              "<Figure size 842.4x451.44 with 1 Axes>"
            ],
            "image/png": "[encoded data removed]"
          },
          "metadata": {}
        },
        {
          "output_type": "display_data",
          "data": {
            "text/plain": [
              "<Figure size 842.4x451.44 with 1 Axes>"
            ],
            "image/png": "[encoded data removed]"
          },
          "metadata": {}
        }
      ],
      "source": [
        "sns.histplot(data=df,x='pcp24')\n",
        "plt.show()\n",
        "sns.boxplot(data=df,x='pcp24')\n",
        "plt.show()"
      ]
    },
    {
      "cell_type": "markdown",
      "metadata": {
        "id": "cO94S55DCmNG"
      },
      "source": [
        "### **Observations on Snow Depth**"
      ]
    },
    {
      "cell_type": "code",
      "execution_count": null,
      "metadata": {
        "id": "VAFWTAueCmNH",
        "colab": {
          "base_uri": "https://localhost:8080/",
          "height": 799
        },
        "outputId": "bcbc8696-88e6-4991-de51-db23a298cc8f"
      },
      "outputs": [
        {
          "output_type": "display_data",
          "data": {
            "text/plain": [
              "<Figure size 842.4x451.44 with 1 Axes>"
            ],
            "image/png": "[encoded data removed]"
          },
          "metadata": {}
        },
        {
          "output_type": "display_data",
          "data": {
            "text/plain": [
              "<Figure size 842.4x451.44 with 1 Axes>"
            ],
            "image/png": "[encoded data removed]"
          },
          "metadata": {}
        }
      ],
      "source": [
        "sns.histplot(data=df,x='sd')\n",
        "plt.show()\n",
        "sns.boxplot(data=df,x='sd')\n",
        "plt.show()"
      ]
    },
    {
      "cell_type": "markdown",
      "metadata": {
        "id": "YS0zRpcHCmNK"
      },
      "source": [
        "### **Let's explore the categorical variables now**"
      ]
    },
    {
      "cell_type": "markdown",
      "metadata": {
        "id": "Rz5intsrCmNM"
      },
      "source": [
        "#### **Observations on holiday**"
      ]
    },
    {
      "cell_type": "code",
      "execution_count": null,
      "metadata": {
        "id": "Qek29sNdCmNM",
        "colab": {
          "base_uri": "https://localhost:8080/",
          "height": 425
        },
        "outputId": "de19281b-18fa-4269-fcf2-7e4c5b389e6f"
      },
      "outputs": [
        {
          "output_type": "execute_result",
          "data": {
            "text/plain": [
              "<matplotlib.axes._subplots.AxesSubplot at 0x7fb343c7b250>"
            ]
          },
          "metadata": {},
          "execution_count": 103
        },
        {
          "output_type": "display_data",
          "data": {
            "text/plain": [
              "<Figure size 842.4x451.44 with 1 Axes>"
            ],
            "image/png": "[encoded data removed]"
          },
          "metadata": {}
        }
      ],
      "source": [
        "# Getting the distribution for holiday variable\n",
        "sns.countplot(data=df, x='hday')"
      ]
    },
    {
      "cell_type": "markdown",
      "metadata": {
        "id": "gCoGf5viCmNO"
      },
      "source": [
        "### **Observations on borough**"
      ]
    },
    {
      "cell_type": "code",
      "execution_count": null,
      "metadata": {
        "id": "cjZtXHrUCmNO",
        "colab": {
          "base_uri": "https://localhost:8080/",
          "height": 471
        },
        "outputId": "fd6a3cc8-209d-49a7-9811-775f54836370"
      },
      "outputs": [
        {
          "output_type": "display_data",
          "data": {
            "text/plain": [
              "<Figure size 842.4x451.44 with 1 Axes>"
            ],
            "image/png": "[encoded data removed]"
          },
          "metadata": {}
        }
      ],
      "source": [
        "sns.countplot(data=df,x='borough');\n",
        "plt.xticks(rotation = 90);"
      ]
    },
    {
      "cell_type": "markdown",
      "metadata": {
        "id": "a3FosXODCmNS"
      },
      "source": [
        "## <u> **Bivariate Analysis**"
      ]
    },
    {
      "cell_type": "markdown",
      "source": [
        "### Bi means two and variate means variable, so here there are two variables. The analysis is related to the relationship between the two variables.\n",
        "\n"
      ],
      "metadata": {
        "id": "gSDIdIOxY7Zk"
      }
    },
    {
      "cell_type": "markdown",
      "metadata": {
        "id": "ycVCmopBCmNT"
      },
      "source": [
        "## **Correlation by Heatmap**"
      ]
    },
    {
      "cell_type": "code",
      "source": [
        "# Check for correlation among numerical variables\n",
        "num_var = ['pickups','spd','vsb','temp','dewp', 'slp','pcp01', 'pcp06', 'pcp24', 'sd']\n",
        "corr = df[num_var].corr()\n",
        "corr\n",
        "\n",
        "# -1 to 1\n",
        "# 1: positive\n",
        "# -1: negative"
      ],
      "metadata": {
        "id": "CA9QbX2EAMVk",
        "colab": {
          "base_uri": "https://localhost:8080/",
          "height": 363
        },
        "outputId": "177efc2a-c871-4a0e-ea97-0a79110e25e0"
      },
      "execution_count": null,
      "outputs": [
        {
          "output_type": "execute_result",
          "data": {
            "text/plain": [
              "          pickups       spd       vsb      temp      dewp       slp     pcp01  \\\n",
              "pickups  1.000000  0.011103 -0.007484  0.054146  0.033456 -0.015011  0.004406   \n",
              "spd      0.011103  1.000000  0.089056 -0.291805 -0.321730 -0.091698 -0.000250   \n",
              "vsb     -0.007484  0.089056  1.000000  0.026400 -0.232188  0.165451 -0.487121   \n",
              "temp     0.054146 -0.291805  0.026400  1.000000  0.889635 -0.213800 -0.014114   \n",
              "dewp     0.033456 -0.321730 -0.232188  0.889635  1.000000 -0.310104  0.115585   \n",
              "slp     -0.015011 -0.091698  0.165451 -0.213800 -0.310104  1.000000 -0.088466   \n",
              "pcp01    0.004406 -0.000250 -0.487121 -0.014114  0.115585 -0.088466  1.000000   \n",
              "pcp06   -0.002909  0.016266 -0.117681 -0.039662  0.012435 -0.103059  0.126185   \n",
              "pcp24   -0.020219 -0.010563  0.000323 -0.016387  0.001250 -0.133964  0.001017   \n",
              "sd      -0.008241  0.097919 -0.048110 -0.558519 -0.492485  0.123538 -0.000974   \n",
              "\n",
              "            pcp06     pcp24        sd  \n",
              "pickups -0.002909 -0.020219 -0.008241  \n",
              "spd      0.016266 -0.010563  0.097919  \n",
              "vsb     -0.117681  0.000323 -0.048110  \n",
              "temp    -0.039662 -0.016387 -0.558519  \n",
              "dewp     0.012435  0.001250 -0.492485  \n",
              "slp     -0.103059 -0.133964  0.123538  \n",
              "pcp01    0.126185  0.001017 -0.000974  \n",
              "pcp06    1.000000  0.253583  0.040092  \n",
              "pcp24    0.253583  1.000000  0.070604  \n",
              "sd       0.040092  0.070604  1.000000  "
            ],
            "text/html": [
              "\n",
              "  <div id=\"df-f0f913fa-52e3-4793-bcdd-623ead8b02b9\">\n",
              "    <div class=\"colab-df-container\">\n",
              "      <div>\n",
              "<style scoped>\n",
              "    .dataframe tbody tr th:only-of-type {\n",
              "        vertical-align: middle;\n",
              "    }\n",
              "\n",
              "    .dataframe tbody tr th {\n",
              "        vertical-align: top;\n",
              "    }\n",
              "\n",
              "    .dataframe thead th {\n",
              "        text-align: right;\n",
              "    }\n",
              "</style>\n",
              "<table border=\"1\" class=\"dataframe\">\n",
              "  <thead>\n",
              "    <tr style=\"text-align: right;\">\n",
              "      <th></th>\n",
              "      <th>pickups</th>\n",
              "      <th>spd</th>\n",
              "      <th>vsb</th>\n",
              "      <th>temp</th>\n",
              "      <th>dewp</th>\n",
              "      <th>slp</th>\n",
              "      <th>pcp01</th>\n",
              "      <th>pcp06</th>\n",
              "      <th>pcp24</th>\n",
              "      <th>sd</th>\n",
              "    </tr>\n",
              "  </thead>\n",
              "  <tbody>\n",
              "    <tr>\n",
              "      <th>pickups</th>\n",
              "      <td>1.000000</td>\n",
              "      <td>0.011103</td>\n",
              "      <td>-0.007484</td>\n",
              "      <td>0.054146</td>\n",
              "      <td>0.033456</td>\n",
              "      <td>-0.015011</td>\n",
              "      <td>0.004406</td>\n",
              "      <td>-0.002909</td>\n",
              "      <td>-0.020219</td>\n",
              "      <td>-0.008241</td>\n",
              "    </tr>\n",
              "    <tr>\n",
              "      <th>spd</th>\n",
              "      <td>0.011103</td>\n",
              "      <td>1.000000</td>\n",
              "      <td>0.089056</td>\n",
              "      <td>-0.291805</td>\n",
              "      <td>-0.321730</td>\n",
              "      <td>-0.091698</td>\n",
              "      <td>-0.000250</td>\n",
              "      <td>0.016266</td>\n",
              "      <td>-0.010563</td>\n",
              "      <td>0.097919</td>\n",
              "    </tr>\n",
              "    <tr>\n",
              "      <th>vsb</th>\n",
              "      <td>-0.007484</td>\n",
              "      <td>0.089056</td>\n",
              "      <td>1.000000</td>\n",
              "      <td>0.026400</td>\n",
              "      <td>-0.232188</td>\n",
              "      <td>0.165451</td>\n",
              "      <td>-0.487121</td>\n",
              "      <td>-0.117681</td>\n",
              "      <td>0.000323</td>\n",
              "      <td>-0.048110</td>\n",
              "    </tr>\n",
              "    <tr>\n",
              "      <th>temp</th>\n",
              "      <td>0.054146</td>\n",
              "      <td>-0.291805</td>\n",
              "      <td>0.026400</td>\n",
              "      <td>1.000000</td>\n",
              "      <td>0.889635</td>\n",
              "      <td>-0.213800</td>\n",
              "      <td>-0.014114</td>\n",
              "      <td>-0.039662</td>\n",
              "      <td>-0.016387</td>\n",
              "      <td>-0.558519</td>\n",
              "    </tr>\n",
              "    <tr>\n",
              "      <th>dewp</th>\n",
              "      <td>0.033456</td>\n",
              "      <td>-0.321730</td>\n",
              "      <td>-0.232188</td>\n",
              "      <td>0.889635</td>\n",
              "      <td>1.000000</td>\n",
              "      <td>-0.310104</td>\n",
              "      <td>0.115585</td>\n",
              "      <td>0.012435</td>\n",
              "      <td>0.001250</td>\n",
              "      <td>-0.492485</td>\n",
              "    </tr>\n",
              "    <tr>\n",
              "      <th>slp</th>\n",
              "      <td>-0.015011</td>\n",
              "      <td>-0.091698</td>\n",
              "      <td>0.165451</td>\n",
              "      <td>-0.213800</td>\n",
              "      <td>-0.310104</td>\n",
              "      <td>1.000000</td>\n",
              "      <td>-0.088466</td>\n",
              "      <td>-0.103059</td>\n",
              "      <td>-0.133964</td>\n",
              "      <td>0.123538</td>\n",
              "    </tr>\n",
              "    <tr>\n",
              "      <th>pcp01</th>\n",
              "      <td>0.004406</td>\n",
              "      <td>-0.000250</td>\n",
              "      <td>-0.487121</td>\n",
              "      <td>-0.014114</td>\n",
              "      <td>0.115585</td>\n",
              "      <td>-0.088466</td>\n",
              "      <td>1.000000</td>\n",
              "      <td>0.126185</td>\n",
              "      <td>0.001017</td>\n",
              "      <td>-0.000974</td>\n",
              "    </tr>\n",
              "    <tr>\n",
              "      <th>pcp06</th>\n",
              "      <td>-0.002909</td>\n",
              "      <td>0.016266</td>\n",
              "      <td>-0.117681</td>\n",
              "      <td>-0.039662</td>\n",
              "      <td>0.012435</td>\n",
              "      <td>-0.103059</td>\n",
              "      <td>0.126185</td>\n",
              "      <td>1.000000</td>\n",
              "      <td>0.253583</td>\n",
              "      <td>0.040092</td>\n",
              "    </tr>\n",
              "    <tr>\n",
              "      <th>pcp24</th>\n",
              "      <td>-0.020219</td>\n",
              "      <td>-0.010563</td>\n",
              "      <td>0.000323</td>\n",
              "      <td>-0.016387</td>\n",
              "      <td>0.001250</td>\n",
              "      <td>-0.133964</td>\n",
              "      <td>0.001017</td>\n",
              "      <td>0.253583</td>\n",
              "      <td>1.000000</td>\n",
              "      <td>0.070604</td>\n",
              "    </tr>\n",
              "    <tr>\n",
              "      <th>sd</th>\n",
              "      <td>-0.008241</td>\n",
              "      <td>0.097919</td>\n",
              "      <td>-0.048110</td>\n",
              "      <td>-0.558519</td>\n",
              "      <td>-0.492485</td>\n",
              "      <td>0.123538</td>\n",
              "      <td>-0.000974</td>\n",
              "      <td>0.040092</td>\n",
              "      <td>0.070604</td>\n",
              "      <td>1.000000</td>\n",
              "    </tr>\n",
              "  </tbody>\n",
              "</table>\n",
              "</div>\n",
              "      <button class=\"colab-df-convert\" onclick=\"convertToInteractive('df-f0f913fa-52e3-4793-bcdd-623ead8b02b9')\"\n",
              "              title=\"Convert this dataframe to an interactive table.\"\n",
              "              style=\"display:none;\">\n",
              "        \n",
              "  <svg xmlns=\"http://www.w3.org/2000/svg\" height=\"24px\"viewBox=\"0 0 24 24\"\n",
              "       width=\"24px\">\n",
              "    <path d=\"M0 0h24v24H0V0z\" fill=\"none\"/>\n",
              "    <path d=\"M18.56 5.44l.94 2.06.94-2.06 2.06-.94-2.06-.94-.94-2.06-.94 2.06-2.06.94zm-11 1L8.5 8.5l.94-2.06 2.06-.94-2.06-.94L8.5 2.5l-.94 2.06-2.06.94zm10 10l.94 2.06.94-2.06 2.06-.94-2.06-.94-.94-2.06-.94 2.06-2.06.94z\"/><path d=\"M17.41 7.96l-1.37-1.37c-.4-.4-.92-.59-1.43-.59-.52 0-1.04.2-1.43.59L10.3 9.45l-7.72 7.72c-.78.78-.78 2.05 0 2.83L4 21.41c.39.39.9.59 1.41.59.51 0 1.02-.2 1.41-.59l7.78-7.78 2.81-2.81c.8-.78.8-2.07 0-2.86zM5.41 20L4 18.59l7.72-7.72 1.47 1.35L5.41 20z\"/>\n",
              "  </svg>\n",
              "      </button>\n",
              "      \n",
              "  <style>\n",
              "    .colab-df-container {\n",
              "      display:flex;\n",
              "      flex-wrap:wrap;\n",
              "      gap: 12px;\n",
              "    }\n",
              "\n",
              "    .colab-df-convert {\n",
              "      background-color: #E8F0FE;\n",
              "      border: none;\n",
              "      border-radius: 50%;\n",
              "      cursor: pointer;\n",
              "      display: none;\n",
              "      fill: #1967D2;\n",
              "      height: 32px;\n",
              "      padding: 0 0 0 0;\n",
              "      width: 32px;\n",
              "    }\n",
              "\n",
              "    .colab-df-convert:hover {\n",
              "      background-color: #E2EBFA;\n",
              "      box-shadow: 0px 1px 2px rgba(60, 64, 67, 0.3), 0px 1px 3px 1px rgba(60, 64, 67, 0.15);\n",
              "      fill: #174EA6;\n",
              "    }\n",
              "\n",
              "    [theme=dark] .colab-df-convert {\n",
              "      background-color: #3B4455;\n",
              "      fill: #D2E3FC;\n",
              "    }\n",
              "\n",
              "    [theme=dark] .colab-df-convert:hover {\n",
              "      background-color: #434B5C;\n",
              "      box-shadow: 0px 1px 3px 1px rgba(0, 0, 0, 0.15);\n",
              "      filter: drop-shadow(0px 1px 2px rgba(0, 0, 0, 0.3));\n",
              "      fill: #FFFFFF;\n",
              "    }\n",
              "  </style>\n",
              "\n",
              "      <script>\n",
              "        const buttonEl =\n",
              "          document.querySelector('#df-f0f913fa-52e3-4793-bcdd-623ead8b02b9 button.colab-df-convert');\n",
              "        buttonEl.style.display =\n",
              "          google.colab.kernel.accessAllowed ? 'block' : 'none';\n",
              "\n",
              "        async function convertToInteractive(key) {\n",
              "          const element = document.querySelector('#df-f0f913fa-52e3-4793-bcdd-623ead8b02b9');\n",
              "          const dataTable =\n",
              "            await google.colab.kernel.invokeFunction('convertToInteractive',\n",
              "                                                     [key], {});\n",
              "          if (!dataTable) return;\n",
              "\n",
              "          const docLinkHtml = 'Like what you see? Visit the ' +\n",
              "            '<a target=\"_blank\" href=https://colab.research.google.com/notebooks/data_table.ipynb>data table notebook</a>'\n",
              "            + ' to learn more about interactive tables.';\n",
              "          element.innerHTML = '';\n",
              "          dataTable['output_type'] = 'display_data';\n",
              "          await google.colab.output.renderOutput(dataTable, element);\n",
              "          const docLink = document.createElement('div');\n",
              "          docLink.innerHTML = docLinkHtml;\n",
              "          element.appendChild(docLink);\n",
              "        }\n",
              "      </script>\n",
              "    </div>\n",
              "  </div>\n",
              "  "
            ]
          },
          "metadata": {},
          "execution_count": 105
        }
      ]
    },
    {
      "cell_type": "code",
      "execution_count": null,
      "metadata": {
        "id": "0ri8U0CvCmNT",
        "colab": {
          "base_uri": "https://localhost:8080/",
          "height": 435
        },
        "outputId": "f12c0aa7-b7ec-4c54-fbcb-64aef1b7df7e"
      },
      "outputs": [
        {
          "output_type": "display_data",
          "data": {
            "text/plain": [
              "<Figure size 1080x504 with 2 Axes>"
            ],
            "image/png": "[encoded data removed]"
          },
          "metadata": {}
        }
      ],
      "source": [
        "# plot the heatmap\n",
        "plt.figure(figsize=(15, 7))\n",
        "sns.heatmap(corr, annot=True, vmin=-1, vmax=1, fmt=\".2f\", cmap=\"RdYlGn\") # Spectral\n",
        "plt.show()"
      ]
    },
    {
      "cell_type": "markdown",
      "metadata": {
        "id": "bSZgpRq4CmNZ"
      },
      "source": [
        "#### Now let's check the trend between pickups across different time based variables"
      ]
    },
    {
      "cell_type": "markdown",
      "metadata": {
        "id": "uuwDETWqCmNZ"
      },
      "source": [
        "### **Pickups across months**"
      ]
    },
    {
      "cell_type": "code",
      "execution_count": null,
      "metadata": {
        "id": "84a95LhQCmNc",
        "colab": {
          "base_uri": "https://localhost:8080/",
          "height": 448
        },
        "outputId": "4b20bebc-113d-40e4-9dc8-746747c1d123"
      },
      "outputs": [
        {
          "output_type": "display_data",
          "data": {
            "text/plain": [
              "<Figure size 1080x504 with 1 Axes>"
            ],
            "image/png": "[encoded data removed]"
          },
          "metadata": {}
        }
      ],
      "source": [
        "# Understanding the trend of pickups across months\n",
        "cats = df.start_month.unique().tolist()\n",
        "df.start_month = pd.Categorical(df.start_month, ordered=True, categories=cats)\n",
        "\n",
        "plt.figure(figsize=(15,7))\n",
        "sns.lineplot(data=df, x=\"start_month\", y=\"pickups\", ci=False, color=\"red\", estimator='mean')\n",
        "plt.ylabel('Total pickups')\n",
        "plt.xlabel('Month')\n",
        "plt.show()"
      ]
    },
    {
      "cell_type": "markdown",
      "metadata": {
        "id": "58KoBSudCmNe"
      },
      "source": [
        "#### **Pickups vs Days of the Month**"
      ]
    },
    {
      "cell_type": "code",
      "execution_count": null,
      "metadata": {
        "id": "XWPJsTjTCmNe",
        "colab": {
          "base_uri": "https://localhost:8080/",
          "height": 448
        },
        "outputId": "8a26c111-c199-4aaa-9136-5d362681d4cc"
      },
      "outputs": [
        {
          "output_type": "display_data",
          "data": {
            "text/plain": [
              "<Figure size 1080x504 with 1 Axes>"
            ],
            "image/png": "[encoded data removed]"
          },
          "metadata": {}
        }
      ],
      "source": [
        "plt.fgure(figsize=(15,7))\n",
        "sns.lineplot(data=df, x=\"start_day\", y=\"pickups\", estimator='sum', ci=False, color=\"red\")\n",
        "plt.ylabel('Total pickups')\n",
        "plt.xlabel('Day of Month')\n",
        "plt.show()"
      ]
    },
    {
      "cell_type": "code",
      "source": [
        "plt.figure(figsize=(15,7))\n",
        "sns.lineplot(data=df, x=\"start_day\", y=\"pickups\", estimator='mean', ci=False, color=\"red\")\n",
        "plt.ylabel('Total pickups')\n",
        "plt.xlabel('Day of Month')\n",
        "plt.show()"
      ],
      "metadata": {
        "id": "rCjR23aBBei7",
        "colab": {
          "base_uri": "https://localhost:8080/",
          "height": 448
        },
        "outputId": "dae6bc4e-1892-47f0-ae7e-d31ed016c764"
      },
      "execution_count": null,
      "outputs": [
        {
          "output_type": "display_data",
          "data": {
            "text/plain": [
              "<Figure size 1080x504 with 1 Axes>"
            ],
            "image/png": "[encoded data removed]"
          },
          "metadata": {}
        }
      ]
    },
    {
      "cell_type": "markdown",
      "metadata": {
        "id": "m4Dgmr6NCmNm"
      },
      "source": [
        "#### **Pickups across Hours of the Day**"
      ]
    },
    {
      "cell_type": "code",
      "execution_count": null,
      "metadata": {
        "id": "lGiJxX5bCmNm",
        "colab": {
          "base_uri": "https://localhost:8080/",
          "height": 448
        },
        "outputId": "087dbf91-7b01-4ab4-eeec-6d4ed78c278e"
      },
      "outputs": [
        {
          "output_type": "display_data",
          "data": {
            "text/plain": [
              "<Figure size 1080x504 with 1 Axes>"
            ],
            "image/png": "[encoded data removed]"
          },
          "metadata": {}
        }
      ],
      "source": [
        "plt.figure(figsize=(15,7))\n",
        "sns.lineplot(data=df, x=\"start_hour\", y=\"pickups\", estimator='mean', ci=False, color=\"red\")\n",
        "plt.ylabel('Total pickups')\n",
        "plt.xlabel('Hour of the day')\n",
        "plt.show()"
      ]
    },
    {
      "cell_type": "markdown",
      "metadata": {
        "id": "OF3neJO9CmNo"
      },
      "source": [
        "### **What is the trend of Pickups across Weekdays**"
      ]
    },
    {
      "cell_type": "code",
      "execution_count": null,
      "metadata": {
        "id": "gYFgSHzbCmNo",
        "colab": {
          "base_uri": "https://localhost:8080/",
          "height": 459
        },
        "outputId": "abf6c819-1d64-4ffa-da77-fb4e3bbf4623"
      },
      "outputs": [
        {
          "output_type": "display_data",
          "data": {
            "text/plain": [
              "<Figure size 1080x504 with 1 Axes>"
            ],
            "image/png": "[encoded data removed]"
          },
          "metadata": {}
        }
      ],
      "source": [
        "# Getting the trend of pickups across weekdays\n",
        "cats = ['Monday', 'Tuesday', 'Wednesday','Thursday', 'Friday', 'Saturday', 'Sunday']\n",
        "df.week_day = pd.Categorical(df.week_day, ordered=True, categories=cats)\n",
        "\n",
        "plt.figure(figsize=(15,7))\n",
        "sns.lineplot(data=df, x=\"week_day\", y=\"pickups\", ci=False, color=\"red\", estimator='sum')\n",
        "plt.ylabel('Total pickups')\n",
        "plt.xlabel('Weeks')\n",
        "plt.show()"
      ]
    },
    {
      "cell_type": "markdown",
      "metadata": {
        "id": "_t3JKMhEQMLL"
      },
      "source": [
        "### **Outlier Detection and Treatment**"
      ]
    },
    {
      "cell_type": "code",
      "execution_count": null,
      "metadata": {
        "id": "aRgwsT0fQe9i",
        "colab": {
          "base_uri": "https://localhost:8080/",
          "height": 853
        },
        "outputId": "1f04aeb9-c36f-4f87-944b-2f833fd5bf0a"
      },
      "outputs": [
        {
          "output_type": "display_data",
          "data": {
            "text/plain": [
              "<Figure size 1440x1080 with 10 Axes>"
            ],
            "image/png": "[encoded data removed]"
          },
          "metadata": {}
        }
      ],
      "source": [
        "# outlier detection using boxplot\n",
        "# selecting the numerical columns of data and adding their names in a list \n",
        "numeric_columns = ['pickups','spd','vsb','temp','dewp', 'slp','pcp01', 'pcp06', 'pcp24', 'sd']\n",
        "plt.figure(figsize=(20, 15))\n",
        "\n",
        "for i, variable in enumerate(numeric_columns):\n",
        "    plt.subplot(4, 4, i + 1)\n",
        "    plt.boxplot(df[variable], whis=1.5)\n",
        "    plt.tight_layout()\n",
        "    plt.title(variable)\n",
        "\n",
        "plt.show()"
      ]
    },
    {
      "cell_type": "code",
      "source": [
        "# Bivariate\n",
        "sns.boxplot(data = df, y='pickups', x='borough');\n",
        "\n",
        "# Num-Cat"
      ],
      "metadata": {
        "colab": {
          "base_uri": "https://localhost:8080/",
          "height": 408
        },
        "id": "2dXdRyjRw9Ui",
        "outputId": "73eb42ff-441b-495d-b9cf-6e085942d02f"
      },
      "execution_count": null,
      "outputs": [
        {
          "output_type": "display_data",
          "data": {
            "text/plain": [
              "<Figure size 842.4x451.44 with 1 Axes>"
            ],
            "image/png": "[encoded data removed]"
          },
          "metadata": {}
        }
      ]
    },
    {
      "cell_type": "markdown",
      "metadata": {
        "id": "a3wP1oR53up6"
      },
      "source": [
        "## **Insights**\n",
        "\n",
        "1. Popular in Manhattan\n",
        "2. Rides are high during 8-10am, 7pm\n",
        "3. not so great during winter\n",
        "4. trend increasing from jan to june\n",
        "5. saturdays rides are high\n",
        "\n",
        "\n"
      ]
    }
  ],
  "metadata": {
    "colab": {
      "provenance": [],
      "collapsed_sections": [
        "sZ4YtvWeCmMu",
        "UnLx3-PfCmM2",
        "4j6Be5DuCmM5",
        "Rl6uU-UWCmM8",
        "w-YtW4DJCmM_",
        "gCoGf5viCmNO"
      ],
      "include_colab_link": true
    },
    "kernelspec": {
      "display_name": "Python 3",
      "language": "python",
      "name": "python3"
    },
    "language_info": {
      "codemirror_mode": {
        "name": "ipython",
        "version": 3
      },
      "file_extension": ".py",
      "mimetype": "text/x-python",
      "name": "python",
      "nbconvert_exporter": "python",
      "pygments_lexer": "ipython3",
      "version": "3.8.5"
    },
    "toc": {
      "base_numbering": 1,
      "nav_menu": {},
      "number_sections": true,
      "sideBar": true,
      "skip_h1_title": false,
      "title_cell": "Table of Contents",
      "title_sidebar": "Contents",
      "toc_cell": false,
      "toc_position": {},
      "toc_section_display": true,
      "toc_window_display": false
    }
  },
  "nbformat": 4,
  "nbformat_minor": 0
}